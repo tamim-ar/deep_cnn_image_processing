{
 "cells": [
  {
   "cell_type": "code",
   "execution_count": null,
   "metadata": {
    "_cell_guid": "de60ebea-dc63-4aae-b37d-2d845fb4171e",
    "_uuid": "ee6e437b-fc0d-4605-a8b2-62c1d8da0a3c",
    "collapsed": false,
    "execution": {
     "iopub.execute_input": "2024-11-29T14:54:23.540986Z",
     "iopub.status.busy": "2024-11-29T14:54:23.540741Z",
     "iopub.status.idle": "2024-11-29T14:54:35.740487Z",
     "shell.execute_reply": "2024-11-29T14:54:35.739747Z",
     "shell.execute_reply.started": "2024-11-29T14:54:23.540964Z"
    },
    "jupyter": {
     "outputs_hidden": false
    },
    "trusted": true
   },
   "outputs": [],
   "source": [
    "# Importing necessary libraries\n",
    "import os\n",
    "import numpy as np\n",
    "import seaborn as sns\n",
    "from shutil import copyfile\n",
    "from sklearn.model_selection import train_test_split\n",
    "import matplotlib.pyplot as plt\n",
    "from sklearn.metrics import confusion_matrix, classification_report\n",
    "from tensorflow.keras.preprocessing.image import ImageDataGenerator\n",
    "from tensorflow.keras.models import Sequential\n",
    "from tensorflow.keras.layers import Conv2D, MaxPooling2D, Flatten, Dense, Dropout, BatchNormalization\n",
    "from tensorflow.keras.callbacks import EarlyStopping\n",
    "from tensorflow.keras.utils import to_categorical\n",
    "from tensorflow.keras.optimizers import Adam\n",
    "from tensorflow.keras.utils import plot_model"
   ]
  },
  {
   "cell_type": "code",
   "execution_count": null,
   "metadata": {
    "_cell_guid": "0c774793-94c3-4650-8b9f-7625aae4c1b7",
    "_uuid": "51ae5f61-9822-4758-8950-b1ea64ff18a2",
    "collapsed": false,
    "execution": {
     "iopub.execute_input": "2024-11-29T14:54:35.742318Z",
     "iopub.status.busy": "2024-11-29T14:54:35.741843Z",
     "iopub.status.idle": "2024-11-29T14:54:35.746335Z",
     "shell.execute_reply": "2024-11-29T14:54:35.745551Z",
     "shell.execute_reply.started": "2024-11-29T14:54:35.742295Z"
    },
    "jupyter": {
     "outputs_hidden": false
    },
    "trusted": true
   },
   "outputs": [],
   "source": [
    "# Define your data directory\n",
    "data_dir = \"/kaggle/input/monkeyspeciesimage\"\n",
    "\n",
    "# Define the directory for your split data\n",
    "split_data_dir = \"/kaggle/working/\""
   ]
  },
  {
   "cell_type": "code",
   "execution_count": null,
   "metadata": {
    "_cell_guid": "d590a608-90f9-4265-bab6-f6a9e863a5c8",
    "_uuid": "f470cf3e-1b4a-4b59-80ff-31bce33713ed",
    "collapsed": false,
    "execution": {
     "iopub.execute_input": "2024-11-29T14:54:35.747565Z",
     "iopub.status.busy": "2024-11-29T14:54:35.747298Z",
     "iopub.status.idle": "2024-11-29T14:54:35.773006Z",
     "shell.execute_reply": "2024-11-29T14:54:35.772323Z",
     "shell.execute_reply.started": "2024-11-29T14:54:35.747544Z"
    },
    "jupyter": {
     "outputs_hidden": false
    },
    "trusted": true
   },
   "outputs": [],
   "source": [
    "# Create train, test, and validation directories\n",
    "train_dir = os.path.join(split_data_dir, \"train\")\n",
    "test_dir = os.path.join(split_data_dir, \"test\")\n",
    "val_dir = os.path.join(split_data_dir, \"val\")\n",
    "\n",
    "os.makedirs(train_dir, exist_ok=True)\n",
    "os.makedirs(test_dir, exist_ok=True)\n",
    "os.makedirs(val_dir, exist_ok=True)"
   ]
  },
  {
   "cell_type": "code",
   "execution_count": null,
   "metadata": {
    "_cell_guid": "e1f2b829-ca10-4537-b230-3b3d9202e1c0",
    "_uuid": "55b60c25-9461-4e84-ba46-4d05aab84de5",
    "collapsed": false,
    "execution": {
     "iopub.execute_input": "2024-11-29T14:54:35.775072Z",
     "iopub.status.busy": "2024-11-29T14:54:35.774850Z",
     "iopub.status.idle": "2024-11-29T14:55:12.842194Z",
     "shell.execute_reply": "2024-11-29T14:55:12.841403Z",
     "shell.execute_reply.started": "2024-11-29T14:54:35.775052Z"
    },
    "jupyter": {
     "outputs_hidden": false
    },
    "trusted": true
   },
   "outputs": [],
   "source": [
    "# Loop through each class\n",
    "for class_name in os.listdir(data_dir):\n",
    "    class_path = os.path.join(data_dir, class_name)\n",
    "    \n",
    "    # Create class directories in train, test, and validation\n",
    "    train_class_dir = os.path.join(train_dir, class_name)\n",
    "    test_class_dir = os.path.join(test_dir, class_name)\n",
    "    val_class_dir = os.path.join(val_dir, class_name)\n",
    "    \n",
    "    os.makedirs(train_class_dir, exist_ok=True)\n",
    "    os.makedirs(test_class_dir, exist_ok=True)\n",
    "    os.makedirs(val_class_dir, exist_ok=True)\n",
    "    \n",
    "    # Split the data into train, test, and validation\n",
    "    train_class_path, temp_class_path = train_test_split(os.listdir(class_path), test_size=0.4, random_state=42)\n",
    "    test_class_path, val_class_path = train_test_split(temp_class_path, test_size=0.5, random_state=42)\n",
    "    \n",
    "    # Copy images to train directory\n",
    "    for img in train_class_path:\n",
    "        copyfile(os.path.join(class_path, img), os.path.join(train_class_dir, img))\n",
    "    \n",
    "    # Copy images to test directory\n",
    "    for img in test_class_path:\n",
    "        copyfile(os.path.join(class_path, img), os.path.join(test_class_dir, img))\n",
    "\n",
    "    # Copy images to validation directory\n",
    "    for img in val_class_path:\n",
    "        copyfile(os.path.join(class_path, img), os.path.join(val_class_dir, img))"
   ]
  },
  {
   "cell_type": "code",
   "execution_count": null,
   "metadata": {
    "_cell_guid": "4ab245ff-df94-4f95-8624-1b66c54029b9",
    "_uuid": "3eedbd3a-4af5-4e94-b4a0-03407d37d656",
    "collapsed": false,
    "execution": {
     "iopub.execute_input": "2024-11-29T14:55:12.843399Z",
     "iopub.status.busy": "2024-11-29T14:55:12.843145Z",
     "iopub.status.idle": "2024-11-29T14:55:12.850693Z",
     "shell.execute_reply": "2024-11-29T14:55:12.849887Z",
     "shell.execute_reply.started": "2024-11-29T14:55:12.843377Z"
    },
    "jupyter": {
     "outputs_hidden": false
    },
    "trusted": true
   },
   "outputs": [],
   "source": [
    "# Paths to training, testing, and validation data\n",
    "train_dir = \"/kaggle/working/train\"\n",
    "test_dir = \"/kaggle/working/test\"\n",
    "val_dir = \"/kaggle/working/val\"\n",
    "\n",
    "# Checking if the classes match in all directories\n",
    "set(os.listdir(train_dir)) == set(os.listdir(test_dir)) == set(os.listdir(val_dir))"
   ]
  },
  {
   "cell_type": "code",
   "execution_count": null,
   "metadata": {
    "_cell_guid": "2479893b-f4f5-406f-838f-b0d5ae4ec5ac",
    "_uuid": "1409fbe2-523c-41f5-90ba-eb34c0948829",
    "collapsed": false,
    "execution": {
     "iopub.execute_input": "2024-11-29T14:55:12.852129Z",
     "iopub.status.busy": "2024-11-29T14:55:12.851815Z",
     "iopub.status.idle": "2024-11-29T14:55:12.860252Z",
     "shell.execute_reply": "2024-11-29T14:55:12.859435Z",
     "shell.execute_reply.started": "2024-11-29T14:55:12.852100Z"
    },
    "jupyter": {
     "outputs_hidden": false
    },
    "trusted": true
   },
   "outputs": [],
   "source": [
    "# Paths to training, testing, and validation data\n",
    "train_dir = \"/kaggle/working/train\"\n",
    "test_dir = \"/kaggle/working/test\"\n",
    "val_dir = \"/kaggle/working/val\""
   ]
  },
  {
   "cell_type": "code",
   "execution_count": null,
   "metadata": {
    "_cell_guid": "755af8f9-1290-4cd1-8b29-ef8ceb900354",
    "_uuid": "569967fa-84bd-47fd-a309-7c538201f297",
    "collapsed": false,
    "execution": {
     "iopub.execute_input": "2024-11-29T14:55:12.861913Z",
     "iopub.status.busy": "2024-11-29T14:55:12.861317Z",
     "iopub.status.idle": "2024-11-29T14:55:12.870708Z",
     "shell.execute_reply": "2024-11-29T14:55:12.869912Z",
     "shell.execute_reply.started": "2024-11-29T14:55:12.861883Z"
    },
    "jupyter": {
     "outputs_hidden": false
    },
    "trusted": true
   },
   "outputs": [],
   "source": [
    "# Define data augmentation for the training set\n",
    "train_datagen = ImageDataGenerator(\n",
    "    rescale=1./255,\n",
    "    shear_range=0.2,\n",
    "    zoom_range=0.2,\n",
    "    horizontal_flip=True\n",
    ")\n",
    "\n",
    "# Define data augmentation for the validation and test sets (only rescaling)\n",
    "val_test_datagen = ImageDataGenerator(rescale=1./255)"
   ]
  },
  {
   "cell_type": "code",
   "execution_count": null,
   "metadata": {
    "_cell_guid": "21fe4eb2-d593-49be-ac40-7d3fe0fc90b7",
    "_uuid": "f8059ae2-c938-4b69-985d-4b735cade198",
    "collapsed": false,
    "execution": {
     "iopub.execute_input": "2024-11-29T14:55:12.872270Z",
     "iopub.status.busy": "2024-11-29T14:55:12.871714Z",
     "iopub.status.idle": "2024-11-29T14:55:12.881154Z",
     "shell.execute_reply": "2024-11-29T14:55:12.880373Z",
     "shell.execute_reply.started": "2024-11-29T14:55:12.872240Z"
    },
    "jupyter": {
     "outputs_hidden": false
    },
    "trusted": true
   },
   "outputs": [],
   "source": [
    "# Create data generators with a target size of 256x256 and batch size 64\n",
    "target_size = (100, 100)\n",
    "batch_size = 32"
   ]
  },
  {
   "cell_type": "code",
   "execution_count": null,
   "metadata": {
    "_cell_guid": "88e1005e-5fd9-4903-82e6-2714e8ac5d79",
    "_uuid": "a684277e-fabb-40e5-993b-f23dbf0e80e0",
    "collapsed": false,
    "execution": {
     "iopub.execute_input": "2024-11-29T14:55:12.882322Z",
     "iopub.status.busy": "2024-11-29T14:55:12.882093Z",
     "iopub.status.idle": "2024-11-29T14:55:13.087512Z",
     "shell.execute_reply": "2024-11-29T14:55:13.086865Z",
     "shell.execute_reply.started": "2024-11-29T14:55:12.882303Z"
    },
    "jupyter": {
     "outputs_hidden": false
    },
    "trusted": true
   },
   "outputs": [],
   "source": [
    "train_generator = train_datagen.flow_from_directory(\n",
    "    train_dir,\n",
    "    target_size=target_size,\n",
    "    batch_size=batch_size,\n",
    "    class_mode='categorical'\n",
    ")\n",
    "\n",
    "val_generator = val_test_datagen.flow_from_directory(\n",
    "    val_dir,\n",
    "    target_size=target_size,\n",
    "    batch_size=batch_size,\n",
    "    class_mode='categorical'\n",
    ")\n",
    "\n",
    "test_generator = val_test_datagen.flow_from_directory(\n",
    "    test_dir,\n",
    "    target_size=target_size,\n",
    "    batch_size=batch_size,\n",
    "    class_mode='categorical'\n",
    ")"
   ]
  },
  {
   "cell_type": "code",
   "execution_count": null,
   "metadata": {
    "_cell_guid": "017ad111-52d9-4334-8277-580ad7c24f70",
    "_uuid": "da3b13a2-e492-48b3-9727-246f93299c89",
    "collapsed": false,
    "execution": {
     "iopub.execute_input": "2024-11-29T14:55:13.090541Z",
     "iopub.status.busy": "2024-11-29T14:55:13.090247Z",
     "iopub.status.idle": "2024-11-29T14:55:14.250031Z",
     "shell.execute_reply": "2024-11-29T14:55:14.249329Z",
     "shell.execute_reply.started": "2024-11-29T14:55:13.090487Z"
    },
    "jupyter": {
     "outputs_hidden": false
    },
    "trusted": true
   },
   "outputs": [],
   "source": [
    "# Build an improved Sequential model\n",
    "model = Sequential()\n",
    "\n",
    "# Convolutional layer 1 with 32 filters, each of size (3,3), using ReLU activation\n",
    "# Input shape is set to (100, 100, 3) for a 100x100 RGB image\n",
    "model.add(Conv2D(32, (3, 3), activation='relu', input_shape=(100, 100, 3)))  # Layer 1\n",
    "\n",
    "# Batch Normalization to improve convergence and reduce overfitting\n",
    "model.add(BatchNormalization())  # Layer 2\n",
    "\n",
    "# MaxPooling layer 1 with pool size (2,2) to downsample the spatial dimensions\n",
    "model.add(MaxPooling2D((2, 2)))  # Layer 3\n",
    "\n",
    "# Convolutional layer 2 with 128 filters and (3,3) filter size, using ReLU activation\n",
    "model.add(Conv2D(128, (3, 3), activation='relu'))  # Layer 4\n",
    "\n",
    "# Batch Normalization\n",
    "model.add(BatchNormalization())  # Layer 5\n",
    "\n",
    "# MaxPooling layer 2\n",
    "model.add(MaxPooling2D((2, 2)))  # Layer 6\n",
    "\n",
    "# Convolutional layer 3 with 256 filters and (3,3) filter size, using ReLU activation\n",
    "model.add(Conv2D(256, (3, 3), activation='relu'))  # Layer 7\n",
    "\n",
    "# Batch Normalization\n",
    "model.add(BatchNormalization())  # Layer 8\n",
    "\n",
    "# MaxPooling layer 3\n",
    "model.add(MaxPooling2D((2, 2)))  # Layer 9\n",
    "\n",
    "# Convolutional layer 4 with 512 filters and (3,3) filter size, using ReLU activation\n",
    "model.add(Conv2D(512, (3, 3), activation='relu'))  # Layer 10\n",
    "\n",
    "# Batch Normalization\n",
    "model.add(BatchNormalization())  # Layer 11\n",
    "\n",
    "# MaxPooling layer 4\n",
    "model.add(MaxPooling2D((2, 2)))  # Layer 12\n",
    "\n",
    "# Convolutional layer 5 with 1024 filters and (3,3) filter size, using ReLU activation\n",
    "model.add(Conv2D(1024, (3, 3), activation='relu'))  # Layer 13\n",
    "\n",
    "# Batch Normalization\n",
    "model.add(BatchNormalization())  # Layer 14\n",
    "\n",
    "# MaxPooling layer 5\n",
    "model.add(MaxPooling2D((2, 2)))  # Layer 15\n",
    "\n",
    "# Flatten layer to convert the 3D output to 1D for the fully connected layers\n",
    "model.add(Flatten())  # Layer 16\n",
    "\n",
    "# Dense (fully connected) layer 1 with 2048 neurons and ReLU activation\n",
    "model.add(Dense(2048, activation='relu'))  # Layer 17\n",
    "\n",
    "# Batch Normalization\n",
    "model.add(BatchNormalization())  # Layer 18\n",
    "\n",
    "# Dropout layer to prevent overfitting by randomly dropping 50% of the neurons during training\n",
    "model.add(Dropout(0.5))  # Layer 19\n",
    "\n",
    "# Dense layer 2 with 1024 neurons and ReLU activation\n",
    "model.add(Dense(1024, activation='relu'))  # Layer 20\n",
    "\n",
    "# Batch Normalization\n",
    "model.add(BatchNormalization())  # Layer 21\n",
    "\n",
    "# Output layer with 6 neurons (assuming 6 classes) and softmax activation for multiclass classification\n",
    "model.add(Dense(10, activation='softmax'))  # Layer 22\n",
    "\n",
    "# Compile the model with Adam optimizer, a reduced learning rate (0.0001), categorical crossentropy loss, and accuracy metric\n",
    "model.compile(optimizer=Adam(learning_rate=0.0001), loss='categorical_crossentropy', metrics=['accuracy'])"
   ]
  },
  {
   "cell_type": "code",
   "execution_count": null,
   "metadata": {
    "_cell_guid": "ae11ddda-c54f-4a25-856f-4e20a8bb4031",
    "_uuid": "dd7114b9-93dd-4a6a-85cb-195c3af04985",
    "collapsed": false,
    "execution": {
     "iopub.execute_input": "2024-11-29T14:55:14.251385Z",
     "iopub.status.busy": "2024-11-29T14:55:14.251072Z",
     "iopub.status.idle": "2024-11-29T14:55:14.552041Z",
     "shell.execute_reply": "2024-11-29T14:55:14.551197Z",
     "shell.execute_reply.started": "2024-11-29T14:55:14.251356Z"
    },
    "jupyter": {
     "outputs_hidden": false
    },
    "trusted": true
   },
   "outputs": [],
   "source": [
    "# Plot the model\n",
    "plot_model(model, to_file='scm_v1_model.png', show_shapes=True)"
   ]
  },
  {
   "cell_type": "code",
   "execution_count": null,
   "metadata": {
    "_cell_guid": "e0488c53-abd5-4f66-b91d-c3e8dc5f1b02",
    "_uuid": "268e1ac1-cfb3-46dd-8bf8-63c9fa488f00",
    "collapsed": false,
    "execution": {
     "iopub.execute_input": "2024-11-29T14:55:14.553162Z",
     "iopub.status.busy": "2024-11-29T14:55:14.552950Z",
     "iopub.status.idle": "2024-11-29T14:55:14.605435Z",
     "shell.execute_reply": "2024-11-29T14:55:14.604654Z",
     "shell.execute_reply.started": "2024-11-29T14:55:14.553144Z"
    },
    "jupyter": {
     "outputs_hidden": false
    },
    "trusted": true
   },
   "outputs": [],
   "source": [
    "# Print the summary of the model\n",
    "model.summary()"
   ]
  },
  {
   "cell_type": "code",
   "execution_count": null,
   "metadata": {
    "_cell_guid": "9b38f218-8ec1-4418-a37f-21ff6a50fcf0",
    "_uuid": "512af5b0-908c-4dd9-a244-837adece7609",
    "collapsed": false,
    "execution": {
     "iopub.execute_input": "2024-11-29T14:55:14.606710Z",
     "iopub.status.busy": "2024-11-29T14:55:14.606445Z",
     "iopub.status.idle": "2024-11-29T14:55:14.610788Z",
     "shell.execute_reply": "2024-11-29T14:55:14.609908Z",
     "shell.execute_reply.started": "2024-11-29T14:55:14.606689Z"
    },
    "jupyter": {
     "outputs_hidden": false
    },
    "trusted": true
   },
   "outputs": [],
   "source": [
    "# Set up early stopping\n",
    "early_stopping = EarlyStopping(monitor='val_loss', patience=15, restore_best_weights=True)"
   ]
  },
  {
   "cell_type": "code",
   "execution_count": null,
   "metadata": {
    "_cell_guid": "9f38d5f0-eae6-4500-a0bd-672a69ffdbb8",
    "_uuid": "8309c2fa-32f0-4bf5-b161-18d046e35db9",
    "collapsed": false,
    "execution": {
     "iopub.execute_input": "2024-11-29T14:55:14.611962Z",
     "iopub.status.busy": "2024-11-29T14:55:14.611756Z",
     "iopub.status.idle": "2024-11-29T15:09:24.116439Z",
     "shell.execute_reply": "2024-11-29T15:09:24.115542Z",
     "shell.execute_reply.started": "2024-11-29T14:55:14.611944Z"
    },
    "jupyter": {
     "outputs_hidden": false
    },
    "trusted": true
   },
   "outputs": [],
   "source": [
    "# Train the model\n",
    "history = model.fit(\n",
    "    train_generator,\n",
    "    steps_per_epoch=len(train_generator),\n",
    "    epochs=100,  # Increase the number of epochs for better convergence\n",
    "    validation_data=val_generator,\n",
    "    validation_steps=len(val_generator),\n",
    "    callbacks=[early_stopping]\n",
    ")"
   ]
  },
  {
   "cell_type": "code",
   "execution_count": null,
   "metadata": {
    "_cell_guid": "aa231d60-78a5-4aaf-99b4-f6006c5426fa",
    "_uuid": "49d59192-a8ce-41ec-85b0-f98ff02d7d7d",
    "collapsed": false,
    "execution": {
     "iopub.execute_input": "2024-11-29T15:09:24.118075Z",
     "iopub.status.busy": "2024-11-29T15:09:24.117720Z",
     "iopub.status.idle": "2024-11-29T15:09:24.483938Z",
     "shell.execute_reply": "2024-11-29T15:09:24.483053Z",
     "shell.execute_reply.started": "2024-11-29T15:09:24.118042Z"
    },
    "jupyter": {
     "outputs_hidden": false
    },
    "trusted": true
   },
   "outputs": [],
   "source": [
    "# Create subplots for loss and accuracy side by side\n",
    "fig, axes = plt.subplots(1, 2, figsize=(12, 4))\n",
    "\n",
    "# Plot training and validation loss\n",
    "axes[0].plot(history.history['loss'], label='Train Loss')\n",
    "axes[0].plot(history.history['val_loss'], label='Validation Loss')\n",
    "axes[0].set_xlabel('Epochs')\n",
    "axes[0].set_ylabel('Loss')\n",
    "axes[0].legend()\n",
    "axes[0].set_title('Training and Validation Loss')\n",
    "\n",
    "# Plot training and validation accuracy\n",
    "axes[1].plot(history.history['accuracy'], label='Train Accuracy')\n",
    "axes[1].plot(history.history['val_accuracy'], label='Validation Accuracy')\n",
    "axes[1].set_xlabel('Epochs')\n",
    "axes[1].set_ylabel('Accuracy')\n",
    "axes[1].legend()\n",
    "axes[1].set_title('Training and Validation Accuracy')\n",
    "\n",
    "plt.show()"
   ]
  },
  {
   "cell_type": "code",
   "execution_count": null,
   "metadata": {
    "_cell_guid": "d50d5509-3902-456f-89a1-b157eb06a47f",
    "_uuid": "235e68c8-2eaf-4f5e-8a0d-549f854f06d4",
    "collapsed": false,
    "execution": {
     "iopub.execute_input": "2024-11-29T15:09:24.485251Z",
     "iopub.status.busy": "2024-11-29T15:09:24.485002Z",
     "iopub.status.idle": "2024-11-29T15:09:28.011168Z",
     "shell.execute_reply": "2024-11-29T15:09:28.010322Z",
     "shell.execute_reply.started": "2024-11-29T15:09:24.485230Z"
    },
    "jupyter": {
     "outputs_hidden": false
    },
    "trusted": true
   },
   "outputs": [],
   "source": [
    "# Generate predictions on the test set\n",
    "y_pred = model.predict(test_generator)\n",
    "y_pred_classes = np.argmax(y_pred, axis=1)\n",
    "y_true_classes = test_generator.classes"
   ]
  },
  {
   "cell_type": "code",
   "execution_count": null,
   "metadata": {
    "_cell_guid": "0f73b631-17a0-4b4a-8b97-85dfbdde75cd",
    "_uuid": "5f85a4e0-9b1c-43a3-a860-6b307113c7c3",
    "collapsed": false,
    "execution": {
     "iopub.execute_input": "2024-11-29T15:09:28.012578Z",
     "iopub.status.busy": "2024-11-29T15:09:28.012274Z",
     "iopub.status.idle": "2024-11-29T15:09:31.354967Z",
     "shell.execute_reply": "2024-11-29T15:09:31.353962Z",
     "shell.execute_reply.started": "2024-11-29T15:09:28.012554Z"
    },
    "jupyter": {
     "outputs_hidden": false
    },
    "trusted": true
   },
   "outputs": [],
   "source": [
    "# Evaluate the model on the test data\n",
    "evaluation = model.evaluate(test_generator)\n",
    "\n",
    "# Extract the accuracy from the evaluation result\n",
    "accuracy = evaluation[1]\n",
    "\n",
    "# Print the accuracy\n",
    "print(f\"Model Accuracy: {accuracy * 100:.2f}%\")"
   ]
  },
  {
   "cell_type": "code",
   "execution_count": null,
   "metadata": {
    "execution": {
     "iopub.execute_input": "2024-11-29T15:09:31.356438Z",
     "iopub.status.busy": "2024-11-29T15:09:31.356194Z",
     "iopub.status.idle": "2024-11-29T15:09:34.770319Z",
     "shell.execute_reply": "2024-11-29T15:09:34.769451Z",
     "shell.execute_reply.started": "2024-11-29T15:09:31.356416Z"
    },
    "trusted": true
   },
   "outputs": [],
   "source": [
    "# Evaluate the model on the test data\n",
    "evaluation = model.evaluate(test_generator)\n",
    "\n",
    "# Extract the accuracy from the evaluation result\n",
    "accuracy = evaluation[1]\n",
    "\n",
    "# Print the accuracy\n",
    "print(f\"Model Test Accuracy: {accuracy * 100:.2f}%\")"
   ]
  },
  {
   "cell_type": "code",
   "execution_count": null,
   "metadata": {
    "execution": {
     "iopub.execute_input": "2024-11-29T15:09:34.772222Z",
     "iopub.status.busy": "2024-11-29T15:09:34.771618Z",
     "iopub.status.idle": "2024-11-29T15:09:35.339335Z",
     "shell.execute_reply": "2024-11-29T15:09:35.338563Z",
     "shell.execute_reply.started": "2024-11-29T15:09:34.772190Z"
    },
    "trusted": true
   },
   "outputs": [],
   "source": [
    "# Create subplots for training, validation, and test accuracy\n",
    "fig, axes = plt.subplots(1, 3, figsize=(18, 4))\n",
    "\n",
    "# Plot training accuracy\n",
    "axes[0].plot(history.history['accuracy'], label='Train Accuracy')\n",
    "axes[0].set_xlabel('Epochs')\n",
    "axes[0].set_ylabel('Accuracy')\n",
    "axes[0].legend()\n",
    "axes[0].set_title('Training Accuracy')\n",
    "\n",
    "# Plot validation accuracy\n",
    "axes[1].plot(history.history['val_accuracy'], label='Validation Accuracy')\n",
    "axes[1].set_xlabel('Epochs')\n",
    "axes[1].set_ylabel('Accuracy')\n",
    "axes[1].legend()\n",
    "axes[1].set_title('Validation Accuracy')\n",
    "\n",
    "# Plot test accuracy\n",
    "axes[2].plot(history.history['val_accuracy'], label='Validation Accuracy', linestyle='dashed')  # Assuming test accuracy is same as validation accuracy\n",
    "axes[2].set_xlabel('Epochs')\n",
    "axes[2].set_ylabel('Accuracy')\n",
    "axes[2].legend()\n",
    "axes[2].set_title('Test Accuracy')\n",
    "\n",
    "plt.show()"
   ]
  },
  {
   "cell_type": "code",
   "execution_count": null,
   "metadata": {
    "execution": {
     "iopub.execute_input": "2024-11-29T15:09:35.341127Z",
     "iopub.status.busy": "2024-11-29T15:09:35.340785Z",
     "iopub.status.idle": "2024-11-29T15:09:36.127475Z",
     "shell.execute_reply": "2024-11-29T15:09:36.126660Z",
     "shell.execute_reply.started": "2024-11-29T15:09:35.341096Z"
    },
    "trusted": true
   },
   "outputs": [],
   "source": [
    "# Create subplots for training, validation, and test loss\n",
    "fig, axes = plt.subplots(1, 3, figsize=(18, 4))\n",
    "\n",
    "# Plot training loss\n",
    "axes[0].plot(history.history['loss'], label='Train Loss')\n",
    "axes[0].set_xlabel('Epochs')\n",
    "axes[0].set_ylabel('Loss')\n",
    "axes[0].legend()\n",
    "axes[0].set_title('Training Loss')\n",
    "\n",
    "# Plot validation loss\n",
    "axes[1].plot(history.history['val_loss'], label='Validation Loss')\n",
    "axes[1].set_xlabel('Epochs')\n",
    "axes[1].set_ylabel('Loss')\n",
    "axes[1].legend()\n",
    "axes[1].set_title('Validation Loss')\n",
    "\n",
    "# Plot test loss\n",
    "axes[2].plot(history.history['val_loss'], label='Validation Loss', linestyle='dashed')  # Assuming test loss is same as validation loss\n",
    "axes[2].set_xlabel('Epochs')\n",
    "axes[2].set_ylabel('Loss')\n",
    "axes[2].legend()\n",
    "axes[2].set_title('Test Loss')\n",
    "\n",
    "plt.show()"
   ]
  },
  {
   "cell_type": "code",
   "execution_count": null,
   "metadata": {
    "_cell_guid": "53aee649-3500-4b02-83a1-687db362da2b",
    "_uuid": "01cd2414-96b5-4b41-9832-4fc016563ef2",
    "collapsed": false,
    "execution": {
     "iopub.execute_input": "2024-11-29T15:09:36.128969Z",
     "iopub.status.busy": "2024-11-29T15:09:36.128731Z",
     "iopub.status.idle": "2024-11-29T15:09:39.479650Z",
     "shell.execute_reply": "2024-11-29T15:09:39.478696Z",
     "shell.execute_reply.started": "2024-11-29T15:09:36.128949Z"
    },
    "jupyter": {
     "outputs_hidden": false
    },
    "trusted": true
   },
   "outputs": [],
   "source": [
    "# Set the batch size and image dimensions according to your model's input requirements\n",
    "batch_size = 32\n",
    "image_size = (100, 100)\n",
    "\n",
    "# Create ImageDataGenerator for test data\n",
    "test_datagen = ImageDataGenerator(rescale=1./255)\n",
    "\n",
    "# Load test data from the test directory\n",
    "test_generator = test_datagen.flow_from_directory(\n",
    "    test_dir,\n",
    "    target_size=image_size,\n",
    "    batch_size=batch_size,\n",
    "    class_mode='categorical',  # Assuming you have categorical labels\n",
    "    shuffle=False  # Important: Set shuffle to False to get predictions in order\n",
    ")\n",
    "\n",
    "# Generate predictions for the test data\n",
    "predictions = model.predict(test_generator)\n",
    "\n",
    "# Convert predictions to class labels\n",
    "predicted_labels = np.argmax(predictions, axis=1)\n",
    "\n",
    "# Get true labels from the generator\n",
    "true_labels = test_generator.classes\n",
    "\n",
    "# Get class labels and names\n",
    "class_labels = list(test_generator.class_indices.keys())\n",
    "\n",
    "# Print the classification report\n",
    "print(\"Classification Report:\")\n",
    "print(classification_report(true_labels, predicted_labels, target_names=class_labels))"
   ]
  },
  {
   "cell_type": "code",
   "execution_count": null,
   "metadata": {
    "_cell_guid": "34f1e279-c775-479e-b8d4-e618df8730bc",
    "_uuid": "fca97594-017d-411f-9222-8c0cf2a80cfa",
    "collapsed": false,
    "execution": {
     "iopub.execute_input": "2024-11-29T15:09:39.480947Z",
     "iopub.status.busy": "2024-11-29T15:09:39.480722Z",
     "iopub.status.idle": "2024-11-29T15:09:43.350296Z",
     "shell.execute_reply": "2024-11-29T15:09:43.349403Z",
     "shell.execute_reply.started": "2024-11-29T15:09:39.480928Z"
    },
    "jupyter": {
     "outputs_hidden": false
    },
    "trusted": true
   },
   "outputs": [],
   "source": [
    "# Set the batch size and image dimensions according to your model's input requirements\n",
    "batch_size = 32\n",
    "image_size = (100, 100)\n",
    "\n",
    "# Create ImageDataGenerator for test data\n",
    "test_datagen = ImageDataGenerator(rescale=1./255)\n",
    "\n",
    "# Load test data from the test directory\n",
    "test_generator = test_datagen.flow_from_directory(\n",
    "    test_dir,\n",
    "    target_size=image_size,\n",
    "    batch_size=batch_size,\n",
    "    class_mode='categorical',  # Assuming you have categorical labels\n",
    "    shuffle=False  # Important: Set shuffle to False to get predictions in order\n",
    ")\n",
    "\n",
    "# Generate predictions for the test data\n",
    "predictions = model.predict(test_generator)\n",
    "\n",
    "# Convert predictions to class labels\n",
    "predicted_labels = np.argmax(predictions, axis=1)\n",
    "\n",
    "# Get true labels from the generator\n",
    "true_labels = test_generator.classes\n",
    "\n",
    "# Get class labels and names\n",
    "class_labels = list(test_generator.class_indices.keys())\n",
    "\n",
    "# Calculate confusion matrix\n",
    "cm = confusion_matrix(true_labels, predicted_labels)\n",
    "\n",
    "# Plot the confusion matrix\n",
    "plt.figure(figsize=(len(class_labels), len(class_labels)))\n",
    "sns.heatmap(cm, annot=True, fmt='d', cmap='Blues', xticklabels=class_labels, yticklabels=class_labels)\n",
    "plt.xlabel('Predicted')\n",
    "plt.ylabel('True')\n",
    "plt.title('Confusion Matrix')\n",
    "plt.show()"
   ]
  },
  {
   "cell_type": "code",
   "execution_count": null,
   "metadata": {
    "execution": {
     "iopub.execute_input": "2024-11-29T15:09:43.352375Z",
     "iopub.status.busy": "2024-11-29T15:09:43.351751Z",
     "iopub.status.idle": "2024-11-29T15:09:44.215810Z",
     "shell.execute_reply": "2024-11-29T15:09:44.214958Z",
     "shell.execute_reply.started": "2024-11-29T15:09:43.352329Z"
    },
    "trusted": true
   },
   "outputs": [],
   "source": [
    "# Visualize some predictions\n",
    "num_images_to_visualize = 5\n",
    "\n",
    "for i in range(num_images_to_visualize):\n",
    "    # Get a random index\n",
    "    idx = np.random.randint(0, len(test_generator.filenames))\n",
    "    \n",
    "    # Load the image\n",
    "    img_path = os.path.join(test_dir, test_generator.filenames[idx])\n",
    "    img = plt.imread(img_path)\n",
    "    \n",
    "    # Display the image\n",
    "    plt.imshow(img)\n",
    "    plt.axis('off')\n",
    "    \n",
    "    # Get the true and predicted labels\n",
    "    true_label = class_labels[true_labels[idx]]\n",
    "    predicted_label = class_labels[predicted_labels[idx]]\n",
    "    \n",
    "    # Display the true and predicted labels\n",
    "    plt.title(f'True: {true_label}\\nPredicted: {predicted_label}')\n",
    "    plt.show()"
   ]
  },
  {
   "cell_type": "code",
   "execution_count": null,
   "metadata": {
    "execution": {
     "iopub.execute_input": "2024-11-29T15:09:44.217621Z",
     "iopub.status.busy": "2024-11-29T15:09:44.216988Z",
     "iopub.status.idle": "2024-11-29T15:09:44.471837Z",
     "shell.execute_reply": "2024-11-29T15:09:44.471050Z",
     "shell.execute_reply.started": "2024-11-29T15:09:44.217581Z"
    },
    "trusted": true
   },
   "outputs": [],
   "source": [
    "# Save the model to a file\n",
    "model.save('/kaggle/working/scmv1.h5')"
   ]
  },
  {
   "cell_type": "code",
   "execution_count": null,
   "metadata": {
    "execution": {
     "iopub.execute_input": "2024-11-29T15:09:44.473014Z",
     "iopub.status.busy": "2024-11-29T15:09:44.472795Z"
    },
    "trusted": true
   },
   "outputs": [],
   "source": [
    "import shutil\n",
    "z = '/kaggle/working/'\n",
    "shutil.make_archive(z, 'zip', z)"
   ]
  }
 ],
 "metadata": {
  "kaggle": {
   "accelerator": "gpu",
   "dataSources": [
    {
     "datasetId": 5998620,
     "sourceId": 9789754,
     "sourceType": "datasetVersion"
    }
   ],
   "dockerImageVersionId": 30636,
   "isGpuEnabled": true,
   "isInternetEnabled": true,
   "language": "python",
   "sourceType": "notebook"
  },
  "kernelspec": {
   "display_name": "Python 3",
   "language": "python",
   "name": "python3"
  },
  "language_info": {
   "codemirror_mode": {
    "name": "ipython",
    "version": 3
   },
   "file_extension": ".py",
   "mimetype": "text/x-python",
   "name": "python",
   "nbconvert_exporter": "python",
   "pygments_lexer": "ipython3",
   "version": "3.10.12"
  }
 },
 "nbformat": 4,
 "nbformat_minor": 4
}
