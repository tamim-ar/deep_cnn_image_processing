{
 "cells": [
  {
   "cell_type": "code",
   "execution_count": 81,
   "metadata": {
    "colab": {
     "base_uri": "https://localhost:8080/"
    },
    "executionInfo": {
     "elapsed": 11479,
     "status": "ok",
     "timestamp": 1673110421067,
     "user": {
      "displayName": "Tamim Ahasan Rijon",
      "userId": "17979634579433543292"
     },
     "user_tz": -360
    },
    "id": "jMweA6ZIVl7T",
    "outputId": "63f0861a-2bcf-4e2e-f701-0e74277b0157"
   },
   "outputs": [],
   "source": [
    "!pip install -U image-classifiers\n",
    "!pip install -U efficientnet"
   ]
  },
  {
   "cell_type": "markdown",
   "metadata": {
    "id": "XjXqljbyWU0u"
   },
   "source": [
    "### Mount Drive \n",
    "* change working directory"
   ]
  },
  {
   "cell_type": "code",
   "execution_count": 82,
   "metadata": {
    "colab": {
     "base_uri": "https://localhost:8080/"
    },
    "executionInfo": {
     "elapsed": 7058,
     "status": "ok",
     "timestamp": 1673110428119,
     "user": {
      "displayName": "Tamim Ahasan Rijon",
      "userId": "17979634579433543292"
     },
     "user_tz": -360
    },
    "id": "z-ODbCLPT9p4",
    "outputId": "58e5d978-5b6c-43fc-8c3e-01f3453ad692"
   },
   "outputs": [],
   "source": [
    "from google.colab import drive\n",
    "drive.mount('/content/drive')"
   ]
  },
  {
   "cell_type": "code",
   "execution_count": 83,
   "metadata": {
    "colab": {
     "base_uri": "https://localhost:8080/"
    },
    "executionInfo": {
     "elapsed": 4,
     "status": "ok",
     "timestamp": 1673110428119,
     "user": {
      "displayName": "Tamim Ahasan Rijon",
      "userId": "17979634579433543292"
     },
     "user_tz": -360
    },
    "id": "_HzZt8VrWylx",
    "outputId": "1b1c00f2-99bf-471a-b0f5-03f72093aba1"
   },
   "outputs": [],
   "source": [
    "cd /content/drive/MyDrive/covid_19_pneumonia_tuberculosis/local/"
   ]
  },
  {
   "cell_type": "code",
   "execution_count": 84,
   "metadata": {
    "colab": {
     "base_uri": "https://localhost:8080/"
    },
    "executionInfo": {
     "elapsed": 1491,
     "status": "ok",
     "timestamp": 1673110429607,
     "user": {
      "displayName": "Tamim Ahasan Rijon",
      "userId": "17979634579433543292"
     },
     "user_tz": -360
    },
    "id": "HbofzSesXfFe",
    "outputId": "b9b2e479-d97c-4d1b-cd79-fb531571e83d"
   },
   "outputs": [],
   "source": [
    "ls -la"
   ]
  },
  {
   "cell_type": "markdown",
   "metadata": {
    "id": "4EymdFf7yp_U"
   },
   "source": [
    "# PARAMETERS\n",
    "**BEFORE YOU START**\n",
    "\n",
    "> Indented block\n",
    "\n",
    "\n",
    "* **Kaggle dataset GCS path** from kaggle dataset\n",
    "* **UPLOAD DATA CONFIG**\n",
    "\n",
    "**SET THE FOLLOWING VARIABLES**\n",
    "```python\n",
    "  GCS_PATH    :    The raw path of kaggle gcs \n",
    "  EPOCHS      :    number of epochs  \n",
    "  BUFFER_SIZE :    shuffle size of the buffer    \n",
    "  MODEL_NAME  :    name of the saved model\n",
    "  TF_IDEN     :    name of the zipped folder\n",
    "  DATA_FOLDER :    tfrecords folder\n",
    "``` "
   ]
  },
  {
   "cell_type": "code",
   "execution_count": 85,
   "metadata": {
    "colab": {
     "base_uri": "https://localhost:8080/"
    },
    "executionInfo": {
     "elapsed": 10,
     "status": "ok",
     "timestamp": 1673110429607,
     "user": {
      "displayName": "Tamim Ahasan Rijon",
      "userId": "17979634579433543292"
     },
     "user_tz": -360
    },
    "id": "Q4y7rTBIxjrc",
    "outputId": "ab9e1fde-c0ae-40b6-de4a-4cfcd1652ea6"
   },
   "outputs": [],
   "source": [
    "import os \n",
    "GCS_PATH    =    'gs://kds-3e43dc9051dbb77874e2b92bb0ceeeab3064049538e89c1d7d9d41d6'\n",
    "MODEL_NAME  =    \"inceptionresnetv2\" # @param [\"vgg16\",\"vgg19\",\"resnet18\",\"resnet34\",\"resnet50\",\"resnet101\",\"resnet152\",\"resnet50v2\",\"resnet101v2\",\"resnet152v2\",\"resnext50\",\"resnext101\",\"densenet121\",\"densenet169\",\"densenet201\",\"inceptionv3\",\"xception\",\"inceptionresnetv2\",\"seresnet18\",\"seresnet34\",\"seresnet50\",\"seresnet101\",\"seresnet152\",\"seresnext50\",\"seresnext101\",\"senet154\",\"nasnetlarge\",\"nasnetmobile\",\"mobilenet\",\"mobilenetv2\"]\n",
    "DATA_FOLDER =    \"content/drive/MyDrive/covid_19_pneumonia_tuberculosis/data/tfrecords\"\n",
    "EPOCHS      =    250   # @param\n",
    "BUFFER_SIZE =    2048  \n",
    "MODEL_DIR =    os.path.join(os.getcwd(),\"models\",f'{MODEL_NAME}') \n",
    "\n",
    "if not os.path.exists(MODEL_DIR):\n",
    "   os.mkdir(MODEL_DIR)\n",
    "\n",
    "WEIGHT_PATH=os.path.join(MODEL_DIR,f\"{MODEL_NAME}.h5\")\n",
    "GCS_PATH    =    f'{GCS_PATH}/{DATA_FOLDER}'\n",
    "print(GCS_PATH)\n",
    "print(WEIGHT_PATH)"
   ]
  },
  {
   "cell_type": "markdown",
   "metadata": {
    "id": "gRyKZA_u1Fh4"
   },
   "source": [
    "# Config Reading"
   ]
  },
  {
   "cell_type": "code",
   "execution_count": 86,
   "metadata": {
    "colab": {
     "base_uri": "https://localhost:8080/"
    },
    "executionInfo": {
     "elapsed": 8,
     "status": "ok",
     "timestamp": 1673110429608,
     "user": {
      "displayName": "Tamim Ahasan Rijon",
      "userId": "17979634579433543292"
     },
     "user_tz": -360
    },
    "id": "jzGG2S4T1FLH",
    "outputId": "5e4aadf6-95b4-4246-e417-44d6e87e506c"
   },
   "outputs": [],
   "source": [
    "import json\n",
    "\n",
    "with open('config.json') as f:\n",
    "  config = json.load(f)\n",
    "\n",
    "IMAGE_TYPE =  config['image_type']\n",
    "IMG_DIM    =  config['img_dim']\n",
    "LABELS     =  config['labels']\n",
    "NB_CHANNEL =  config['nb_channels']\n",
    "NB_CLASSES =  config['nb_classes']\n",
    "NB_TRAIN   =  config['nb_train_data']\n",
    "NB_EVAL    =  config['nb_eval_data']\n",
    "\n",
    "config"
   ]
  },
  {
   "cell_type": "markdown",
   "metadata": {
    "id": "piOjb1EY77j5"
   },
   "source": [
    "# DEFAULT OPS: TPU TFrecords"
   ]
  },
  {
   "cell_type": "markdown",
   "metadata": {
    "id": "ljnNX33-3oXh"
   },
   "source": [
    "## TPU initialize"
   ]
  },
  {
   "cell_type": "code",
   "execution_count": 87,
   "metadata": {
    "colab": {
     "base_uri": "https://localhost:8080/"
    },
    "executionInfo": {
     "elapsed": 31079,
     "status": "ok",
     "timestamp": 1673110460679,
     "user": {
      "displayName": "Tamim Ahasan Rijon",
      "userId": "17979634579433543292"
     },
     "user_tz": -360
    },
    "id": "U2calqzckRF0",
    "outputId": "50b64500-82ab-4524-ef21-71d6a7879ada"
   },
   "outputs": [],
   "source": [
    "import tensorflow as tf \n",
    "import os \n",
    "\n",
    "\n",
    "print(tf.__version__)\n",
    "# Detect hardware, return appropriate distribution strategy\n",
    "try:\n",
    "    tpu = tf.distribute.cluster_resolver.TPUClusterResolver()  # TPU detection. No parameters necessary if TPU_NAME environment variable is set. On Kaggle this is always the case.\n",
    "    print('Running on TPU ', tpu.master())\n",
    "except ValueError:\n",
    "    tpu = None\n",
    "\n",
    "if tpu:\n",
    "    tf.config.experimental_connect_to_cluster(tpu)\n",
    "    tf.tpu.experimental.initialize_tpu_system(tpu)\n",
    "    strategy = tf.distribute.experimental.TPUStrategy(tpu)\n",
    "else:\n",
    "    strategy = tf.distribute.get_strategy() # default distribution strategy in Tensorflow. Works on CPU and single GPU.\n",
    "\n",
    "print(\"REPLICAS: \", strategy.num_replicas_in_sync)"
   ]
  },
  {
   "cell_type": "markdown",
   "metadata": {
    "id": "kM2_ekih3sxP"
   },
   "source": [
    "## Training Params"
   ]
  },
  {
   "cell_type": "code",
   "execution_count": 88,
   "metadata": {
    "colab": {
     "base_uri": "https://localhost:8080/"
    },
    "executionInfo": {
     "elapsed": 6,
     "status": "ok",
     "timestamp": 1673110460680,
     "user": {
      "displayName": "Tamim Ahasan Rijon",
      "userId": "17979634579433543292"
     },
     "user_tz": -360
    },
    "id": "_fH9Ss4Y3iX3",
    "outputId": "4627f19f-c749-4625-f517-b8e75c9031a9"
   },
   "outputs": [],
   "source": [
    "BATCH_SIZE = 16 * strategy.num_replicas_in_sync\n",
    "STEPS_PER_EPOCH = NB_TRAIN//BATCH_SIZE\n",
    "EVAL_STEPS      = NB_EVAL//BATCH_SIZE\n",
    "print(STEPS_PER_EPOCH,EVAL_STEPS)"
   ]
  },
  {
   "cell_type": "markdown",
   "metadata": {
    "id": "PKeTVSaM3uvJ"
   },
   "source": [
    "## Data input function"
   ]
  },
  {
   "cell_type": "code",
   "execution_count": 89,
   "metadata": {
    "executionInfo": {
     "elapsed": 3,
     "status": "ok",
     "timestamp": 1673110460680,
     "user": {
      "displayName": "Tamim Ahasan Rijon",
      "userId": "17979634579433543292"
     },
     "user_tz": -360
    },
    "id": "QsIWYmcMt-8A"
   },
   "outputs": [],
   "source": [
    "def data_input_fn(mode): \n",
    "    '''\n",
    "      This Function generates data from gcs\n",
    "    '''\n",
    "    \n",
    "    def _parser(example):\n",
    "        feature ={  'image'  : tf.io.FixedLenFeature((),tf.string) ,\n",
    "                    'label'  : tf.io.FixedLenFeature((),tf.int64)\n",
    "        }    \n",
    "        parsed_example=tf.io.parse_single_example(example,feature)\n",
    "        image_raw=parsed_example['image']\n",
    "        image=tf.image.decode_png(image_raw,channels=NB_CHANNEL)\n",
    "        image=tf.cast(image,tf.float32)/255.0\n",
    "        image=tf.reshape(image,(IMG_DIM,IMG_DIM,NB_CHANNEL))\n",
    "        \n",
    "        idx = tf.cast(parsed_example['label'], tf.int32)\n",
    "        label=tf.one_hot(idx,NB_CLASSES,dtype=tf.float32)\n",
    "        return image,label\n",
    "\n",
    "    gcs_pattern=os.path.join(GCS_PATH,mode,'*.tfrecord')\n",
    "    file_paths = tf.io.gfile.glob(gcs_pattern)\n",
    "    dataset = tf.data.TFRecordDataset(file_paths)\n",
    "    dataset = dataset.map(_parser)\n",
    "    dataset = dataset.shuffle(BUFFER_SIZE,reshuffle_each_iteration=True)\n",
    "    dataset = dataset.repeat()\n",
    "    dataset = dataset.batch(BATCH_SIZE,drop_remainder=True)\n",
    "    dataset = dataset.prefetch(tf.data.experimental.AUTOTUNE)\n",
    "    return dataset"
   ]
  },
  {
   "cell_type": "markdown",
   "metadata": {
    "id": "HMs5mC_x3yIC"
   },
   "source": [
    "# Data Check"
   ]
  },
  {
   "cell_type": "code",
   "execution_count": 90,
   "metadata": {
    "colab": {
     "base_uri": "https://localhost:8080/",
     "height": 452
    },
    "executionInfo": {
     "elapsed": 1759,
     "status": "ok",
     "timestamp": 1673110462436,
     "user": {
      "displayName": "Tamim Ahasan Rijon",
      "userId": "17979634579433543292"
     },
     "user_tz": -360
    },
    "id": "p0MlgE8Auhzj",
    "outputId": "31f3c9b3-ce24-41fc-c9bb-227c5a7d3f69"
   },
   "outputs": [],
   "source": [
    "import numpy as np\n",
    "import matplotlib.pyplot as plt\n",
    "%matplotlib inline\n",
    "\n",
    "train_ds  =   data_input_fn(\"train\")\n",
    "eval_ds   =   data_input_fn(\"eval\")\n",
    "\n",
    "\n",
    "for x,y in eval_ds.take(1):\n",
    "    data=np.squeeze(x[0])\n",
    "    plt.imshow(data)\n",
    "    plt.show()\n",
    "    print('Image Batch Shape:',x.shape)\n",
    "    print('Target Batch Shape:',y.shape)\n",
    "    print(y[0])"
   ]
  },
  {
   "cell_type": "markdown",
   "metadata": {
    "id": "-FUNg8BYfq4J"
   },
   "source": [
    "# MODEL definition\n",
    "**THIS IS CHANGEABLE**"
   ]
  },
  {
   "cell_type": "markdown",
   "metadata": {
    "id": "A3TKjiZchG9o"
   },
   "source": [
    "## Callbacks\n",
    "**CHANGABLE**"
   ]
  },
  {
   "cell_type": "code",
   "execution_count": 91,
   "metadata": {
    "colab": {
     "base_uri": "https://localhost:8080/"
    },
    "executionInfo": {
     "elapsed": 10,
     "status": "ok",
     "timestamp": 1673110462437,
     "user": {
      "displayName": "Tamim Ahasan Rijon",
      "userId": "17979634579433543292"
     },
     "user_tz": -360
    },
    "id": "Q7_t5R56whLB",
    "outputId": "86edc116-9c4e-4e34-aea1-1582359db1cb"
   },
   "outputs": [],
   "source": [
    "\n",
    "# reduces learning rate on plateau\n",
    "lr_reducer = tf.keras.callbacks.ReduceLROnPlateau(factor=0.1,\n",
    "                                                  cooldown= 10,\n",
    "                                                  patience=10,\n",
    "                                                  verbose =1,\n",
    "                                                  min_lr=0.1e-7)\n",
    "\n",
    "mode_autosave = tf.keras.callbacks.ModelCheckpoint(WEIGHT_PATH,\n",
    "                                                  save_best_only=True, \n",
    "                                                  verbose=1, \n",
    "                                                  period =1)\n",
    "\n",
    "# stop learining as metric on validatopn stop increasing\n",
    "early_stopping = tf.keras.callbacks.EarlyStopping(patience=15, \n",
    "                                                  verbose=1, \n",
    "                                                  mode = 'auto') \n",
    "\n",
    "callbacks = [mode_autosave, lr_reducer,early_stopping ]"
   ]
  },
  {
   "cell_type": "code",
   "execution_count": 92,
   "metadata": {
    "colab": {
     "base_uri": "https://localhost:8080/"
    },
    "executionInfo": {
     "elapsed": 79444,
     "status": "ok",
     "timestamp": 1673110541876,
     "user": {
      "displayName": "Tamim Ahasan Rijon",
      "userId": "17979634579433543292"
     },
     "user_tz": -360
    },
    "id": "vETk92tWOCaY",
    "outputId": "f345ef3a-acf6-4d4b-a22c-f133d7549408"
   },
   "outputs": [],
   "source": [
    "from classification_models.tfkeras import Classifiers\n",
    "with strategy.scope():\n",
    "    classifier, _ = Classifiers.get(MODEL_NAME)\n",
    "    net=classifier(input_shape=(IMG_DIM,IMG_DIM,NB_CHANNEL),include_top=False)\n",
    "    inp=net.input\n",
    "    x=net.output\n",
    "    x=tf.keras.layers.GlobalAveragePooling2D()(x)\n",
    "    x=tf.keras.layers.Dropout(0.1)(x)\n",
    "    x=tf.keras.layers.Dense(NB_CLASSES,activation=\"softmax\")(x)\n",
    "    model=tf.keras.Model(inputs=inp,outputs=x)\n",
    "    model.compile(\n",
    "        optimizer=tf.keras.optimizers.Adam(learning_rate=1e-4),\n",
    "        loss = 'categorical_crossentropy',\n",
    "        metrics=['accuracy']\n",
    "    )\n",
    "\n",
    "model.summary()"
   ]
  },
  {
   "cell_type": "code",
   "execution_count": 93,
   "metadata": {
    "colab": {
     "base_uri": "https://localhost:8080/"
    },
    "executionInfo": {
     "elapsed": 841126,
     "status": "ok",
     "timestamp": 1673111382948,
     "user": {
      "displayName": "Tamim Ahasan Rijon",
      "userId": "17979634579433543292"
     },
     "user_tz": -360
    },
    "id": "ZPMnZ7_wwZjt",
    "outputId": "df430ca0-4673-4fe2-c62e-ac957ed6dda5"
   },
   "outputs": [],
   "source": [
    "history = model.fit(train_ds,\n",
    "                    steps_per_epoch=STEPS_PER_EPOCH,\n",
    "                    epochs=EPOCHS,\n",
    "                    verbose=1, \n",
    "                    validation_data=eval_ds,\n",
    "                    validation_steps=EVAL_STEPS,\n",
    "                    callbacks=callbacks)"
   ]
  },
  {
   "cell_type": "markdown",
   "metadata": {
    "id": "q4oacOBk4F0b"
   },
   "source": [
    "## Model history"
   ]
  },
  {
   "cell_type": "markdown",
   "metadata": {
    "id": "qIiB57jzISdt"
   },
   "source": [
    "# Results\n",
    "\n"
   ]
  },
  {
   "cell_type": "code",
   "execution_count": 94,
   "metadata": {
    "colab": {
     "base_uri": "https://localhost:8080/",
     "height": 327
    },
    "executionInfo": {
     "elapsed": 1370,
     "status": "ok",
     "timestamp": 1673111384307,
     "user": {
      "displayName": "Tamim Ahasan Rijon",
      "userId": "17979634579433543292"
     },
     "user_tz": -360
    },
    "id": "SqdWXP41p5c6",
    "outputId": "398437c4-c5ce-46c0-a1b1-ab096f9bdaba"
   },
   "outputs": [],
   "source": [
    "def plot_history(history,MODEL_DIR,iden):\n",
    "    \"\"\"\n",
    "    Plots model training history \n",
    "    \"\"\"\n",
    "    fig, (ax_loss, ax_acc) = plt.subplots(1, 2, figsize=(15,5))\n",
    "    ax_loss.plot(history.epoch, history.history[\"loss\"], label=\"Train loss\")\n",
    "    ax_loss.plot(history.epoch, history.history[\"val_loss\"], label=\"Validation loss\")\n",
    "    ax_loss.legend()\n",
    "    ax_acc.plot(history.epoch, history.history[\"accuracy\"], label=\"Train Accuracy\")\n",
    "    ax_acc.plot(history.epoch, history.history[\"val_accuracy\"], label=\"Validation Accuracy\")\n",
    "    ax_acc.legend()\n",
    "    plt.savefig(os.path.join(MODEL_DIR,f\"{iden}.png\"))\n",
    "    plt.show()\n",
    "\n",
    "# show history\n",
    "plot_history(history,MODEL_DIR,f\"{MODEL_NAME}\")"
   ]
  },
  {
   "cell_type": "markdown",
   "metadata": {
    "id": "TTdWAeuk78tK"
   },
   "source": [
    "# Model Evaluation on pure testing"
   ]
  },
  {
   "cell_type": "code",
   "execution_count": 95,
   "metadata": {
    "colab": {
     "base_uri": "https://localhost:8080/"
    },
    "executionInfo": {
     "elapsed": 32921,
     "status": "ok",
     "timestamp": 1673111417221,
     "user": {
      "displayName": "Tamim Ahasan Rijon",
      "userId": "17979634579433543292"
     },
     "user_tz": -360
    },
    "id": "wQ9L_zap8BDV",
    "outputId": "bfe17baf-8d23-4f12-b2fa-ba3b04cf236c"
   },
   "outputs": [],
   "source": [
    "model.load_weights(WEIGHT_PATH)\n",
    "result = model.evaluate(eval_ds,steps=EVAL_STEPS )\n",
    "dict(zip(model.metrics_names, result))"
   ]
  },
  {
   "cell_type": "code",
   "execution_count": 96,
   "metadata": {
    "colab": {
     "base_uri": "https://localhost:8080/",
     "height": 1000,
     "referenced_widgets": [
      "4569ed2b75114894844acc114ab73f48",
      "baffd725ace345d5aa429ac668021e46",
      "0f37a4d9aeea4964ae94ba6da2eaef7d",
      "c7d4d576c18c4d6eaf9b7dd520bbd38e",
      "955d2d99d2ad479ba988777214fdcd59",
      "480181df12ec43d1b1dcdd7daa42ca50",
      "3b8a6dac1b9d4932b4aa1cf6b6469c0a",
      "17dd19ea256b401fa224c38f2decb7a0",
      "7ebd1c5f535f4dfdb1722cea2601bd51",
      "5857368c43b0462785e6124402403ab0",
      "e126f12961394f88a47ad9d709922301"
     ]
    },
    "executionInfo": {
     "elapsed": 83878,
     "status": "ok",
     "timestamp": 1673111501082,
     "user": {
      "displayName": "Tamim Ahasan Rijon",
      "userId": "17979634579433543292"
     },
     "user_tz": -360
    },
    "id": "-8bceCW8glCA",
    "outputId": "2a92f140-68b7-4e51-8dfc-b6d8f54f70e3"
   },
   "outputs": [],
   "source": [
    "from tqdm.auto import tqdm\n",
    "gts=[]\n",
    "preds=[]\n",
    "\n",
    "for x,y in tqdm(eval_ds.take(EVAL_STEPS)):\n",
    "  y_pred=model.predict(x)\n",
    "  gt= list(np.argmax(y, axis=1))\n",
    "  pred=list(np.argmax(y_pred, axis=1))\n",
    "  gts+=gt\n",
    "  preds+=pred\n",
    "\n",
    "gts=np.array(gts)\n",
    "preds=np.array(preds)"
   ]
  },
  {
   "cell_type": "code",
   "execution_count": 97,
   "metadata": {
    "executionInfo": {
     "elapsed": 15,
     "status": "ok",
     "timestamp": 1673111501083,
     "user": {
      "displayName": "Tamim Ahasan Rijon",
      "userId": "17979634579433543292"
     },
     "user_tz": -360
    },
    "id": "z55qu_3Z-xLb"
   },
   "outputs": [],
   "source": [
    "# from tqdm.auto import tqdm\n",
    "# gts=[]\n",
    "# preds=[]\n",
    "\n",
    "# for x,y in tqdm(eval_ds.take(EVAL_STEPS)):\n",
    "#   y_pred=model.predict(x)\n",
    "#   gt= list(np.argmax(y, axis=1))\n",
    "#   pred=list(np.argmax(y_pred, axis=1))\n",
    "#   gts+=gt\n",
    "#   preds+=pred\n",
    "\n",
    "# gts=np.array(gts)\n",
    "# preds=np.array(preds\n",
    "\n",
    "\n",
    "#     # calculate the fpr and tpr for all thresholds of the classification\n",
    "#     probabilities = model.predict(np.array(gts))\n",
    "#     predictions = probabilities[:, 1]\n",
    "#     fpr, tpr, threshold = metrics.roc_curve(gts, preds)\n",
    "#     roc_auc = metrics.auc(fpr, tpr)\n",
    "#     plt.title('Receiver Operating Characteristic')\n",
    "#     plt.plot(fpr, tpr, 'b', label='AUC = %0.2f' % roc_auc)\n",
    "#     plt.legend(loc='lower right')\n",
    "#     plt.plot([0, 1], [0, 1], 'r--')\n",
    "#     plt.xlim([0, 1])\n",
    "#     plt.ylim([0, 1])\n",
    "#     plt.ylabel('True Positive Rate')\n",
    "#     plt.xlabel('False Positive Rate')\n",
    "#     plt.show()"
   ]
  },
  {
   "cell_type": "code",
   "execution_count": 98,
   "metadata": {
    "executionInfo": {
     "elapsed": 14,
     "status": "ok",
     "timestamp": 1673111501083,
     "user": {
      "displayName": "Tamim Ahasan Rijon",
      "userId": "17979634579433543292"
     },
     "user_tz": -360
    },
    "id": "1ShEL5Ztz6MR"
   },
   "outputs": [],
   "source": [
    "# import numpy as np\n",
    "# from sklearn import metrics\n",
    "# from sklearn.metrics import roc_curve\n",
    "# y_pred_keras = model.predict(x).ravel()\n",
    "# fpr_keras, tpr_keras, thresholds_keras= roc_curve(gts, preds)\n",
    "\n",
    "# from sklearn.metrics import auc\n",
    "# auc_keras = auc(fpr_keras, tpr_keras)\n",
    "# from tqdm.auto import tqdm\n",
    "# gts=[]\n",
    "# preds=[]\n",
    "\n",
    "# for x,y in tqdm(eval_ds.take(EVAL_STEPS)):\n",
    "#   y_pred=model.predict(x)\n",
    "#   gt= list(np.argmax(y, axis=1))\n",
    "#   pred=list(np.argmax(y_pred, axis=1))\n",
    "#   gts+=gt\n",
    "#   preds+=pred\n",
    "\n",
    "# gts=np.array(gts)\n",
    "# preds=np.array(preds)\n",
    "# y_pred = model.predict(x).ravel()\n",
    "\n",
    "# scores = np.array(preds)\n",
    "# fpr, tpr, thresholds = metrics.roc_curve(gts, preds, pos_label=9)\n",
    "# roc_auc = metrics.auc(fpr, tpr)\n",
    "\n",
    "# from sklearn.metrics import roc_curve\n",
    "\n",
    "# fpr_keras, tpr_keras, thresholds_keras = roc_curve(gts, preds)\n",
    "\n",
    "# from sklearn.metrics import auc\n",
    "# auc_keras = auc(fpr_keras, tpr_keras)\n",
    "\n",
    "# import matplotlib.pyplot as plt\n",
    "# plt.figure(1)\n",
    "# plt.plot([0, 1], [0, 1], 'k--')\n",
    "# plt.plot(fpr_keras, tpr_keras, label='Keras (area = {:.3f})'.format(auc_keras))\n",
    "# plt.plot(fpr_keras, tpr_keras, label='RF (area = {:.3f})'.format(auc_keras))\n",
    "# plt.xlabel('False positive rate')\n",
    "# plt.ylabel('True positive rate')\n",
    "# plt.title('ROC curve')\n",
    "# plt.legend(loc='best')\n",
    "# plt.show()\n",
    "# plt.figure( os.path.join(MODEL_DIR,f\"ROC_{MODEL_NAME}.png\"))"
   ]
  },
  {
   "cell_type": "code",
   "execution_count": 99,
   "metadata": {
    "colab": {
     "base_uri": "https://localhost:8080/"
    },
    "executionInfo": {
     "elapsed": 13,
     "status": "ok",
     "timestamp": 1673111501083,
     "user": {
      "displayName": "Tamim Ahasan Rijon",
      "userId": "17979634579433543292"
     },
     "user_tz": -360
    },
    "id": "2J30F7LajG_W",
    "outputId": "ffc04f8c-c606-44cc-fc75-18ef76c52fb6"
   },
   "outputs": [],
   "source": [
    "from sklearn.metrics import classification_report\n",
    "print(classification_report(gts, preds, target_names=LABELS))"
   ]
  },
  {
   "cell_type": "code",
   "execution_count": 100,
   "metadata": {
    "colab": {
     "base_uri": "https://localhost:8080/",
     "height": 600
    },
    "executionInfo": {
     "elapsed": 1449,
     "status": "ok",
     "timestamp": 1673111502520,
     "user": {
      "displayName": "Tamim Ahasan Rijon",
      "userId": "17979634579433543292"
     },
     "user_tz": -360
    },
    "id": "aoWeyPWCjla5",
    "outputId": "cd54fa44-8497-45cc-f238-e0b86ca7253f"
   },
   "outputs": [],
   "source": [
    "from sklearn.metrics import confusion_matrix\n",
    "import seaborn as sn\n",
    "import pandas as pd\n",
    "import matplotlib.pyplot as plt\n",
    "con_mat=confusion_matrix(preds, gts)\n",
    "df_cm = pd.DataFrame(con_mat, \n",
    "                     index = LABELS,\n",
    "                     columns = LABELS)\n",
    "plt.figure(figsize = (10,10))\n",
    "sn.set(font_scale=1.4)\n",
    "sn.heatmap(df_cm, annot=True,annot_kws={\"size\": 16},fmt='g')\n",
    "plt.savefig( os.path.join(MODEL_DIR,f\"confusion_{MODEL_NAME}.png\"))\n",
    "plt.show()"
   ]
  }
 ],
 "metadata": {
  "accelerator": "TPU",
  "colab": {
   "provenance": []
  },
  "gpuClass": "standard",
  "kernelspec": {
   "display_name": "Python 3",
   "name": "python3"
  },
  "widgets": {
   "application/vnd.jupyter.widget-state+json": {
    "0f37a4d9aeea4964ae94ba6da2eaef7d": {
     "model_module": "@jupyter-widgets/controls",
     "model_module_version": "1.5.0",
     "model_name": "FloatProgressModel",
     "state": {
      "_dom_classes": [],
      "_model_module": "@jupyter-widgets/controls",
      "_model_module_version": "1.5.0",
      "_model_name": "FloatProgressModel",
      "_view_count": null,
      "_view_module": "@jupyter-widgets/controls",
      "_view_module_version": "1.5.0",
      "_view_name": "ProgressView",
      "bar_style": "success",
      "description": "",
      "description_tooltip": null,
      "layout": "IPY_MODEL_17dd19ea256b401fa224c38f2decb7a0",
      "max": 56,
      "min": 0,
      "orientation": "horizontal",
      "style": "IPY_MODEL_7ebd1c5f535f4dfdb1722cea2601bd51",
      "value": 56
     }
    },
    "17dd19ea256b401fa224c38f2decb7a0": {
     "model_module": "@jupyter-widgets/base",
     "model_module_version": "1.2.0",
     "model_name": "LayoutModel",
     "state": {
      "_model_module": "@jupyter-widgets/base",
      "_model_module_version": "1.2.0",
      "_model_name": "LayoutModel",
      "_view_count": null,
      "_view_module": "@jupyter-widgets/base",
      "_view_module_version": "1.2.0",
      "_view_name": "LayoutView",
      "align_content": null,
      "align_items": null,
      "align_self": null,
      "border": null,
      "bottom": null,
      "display": null,
      "flex": null,
      "flex_flow": null,
      "grid_area": null,
      "grid_auto_columns": null,
      "grid_auto_flow": null,
      "grid_auto_rows": null,
      "grid_column": null,
      "grid_gap": null,
      "grid_row": null,
      "grid_template_areas": null,
      "grid_template_columns": null,
      "grid_template_rows": null,
      "height": null,
      "justify_content": null,
      "justify_items": null,
      "left": null,
      "margin": null,
      "max_height": null,
      "max_width": null,
      "min_height": null,
      "min_width": null,
      "object_fit": null,
      "object_position": null,
      "order": null,
      "overflow": null,
      "overflow_x": null,
      "overflow_y": null,
      "padding": null,
      "right": null,
      "top": null,
      "visibility": null,
      "width": null
     }
    },
    "3b8a6dac1b9d4932b4aa1cf6b6469c0a": {
     "model_module": "@jupyter-widgets/controls",
     "model_module_version": "1.5.0",
     "model_name": "DescriptionStyleModel",
     "state": {
      "_model_module": "@jupyter-widgets/controls",
      "_model_module_version": "1.5.0",
      "_model_name": "DescriptionStyleModel",
      "_view_count": null,
      "_view_module": "@jupyter-widgets/base",
      "_view_module_version": "1.2.0",
      "_view_name": "StyleView",
      "description_width": ""
     }
    },
    "4569ed2b75114894844acc114ab73f48": {
     "model_module": "@jupyter-widgets/controls",
     "model_module_version": "1.5.0",
     "model_name": "HBoxModel",
     "state": {
      "_dom_classes": [],
      "_model_module": "@jupyter-widgets/controls",
      "_model_module_version": "1.5.0",
      "_model_name": "HBoxModel",
      "_view_count": null,
      "_view_module": "@jupyter-widgets/controls",
      "_view_module_version": "1.5.0",
      "_view_name": "HBoxView",
      "box_style": "",
      "children": [
       "IPY_MODEL_baffd725ace345d5aa429ac668021e46",
       "IPY_MODEL_0f37a4d9aeea4964ae94ba6da2eaef7d",
       "IPY_MODEL_c7d4d576c18c4d6eaf9b7dd520bbd38e"
      ],
      "layout": "IPY_MODEL_955d2d99d2ad479ba988777214fdcd59"
     }
    },
    "480181df12ec43d1b1dcdd7daa42ca50": {
     "model_module": "@jupyter-widgets/base",
     "model_module_version": "1.2.0",
     "model_name": "LayoutModel",
     "state": {
      "_model_module": "@jupyter-widgets/base",
      "_model_module_version": "1.2.0",
      "_model_name": "LayoutModel",
      "_view_count": null,
      "_view_module": "@jupyter-widgets/base",
      "_view_module_version": "1.2.0",
      "_view_name": "LayoutView",
      "align_content": null,
      "align_items": null,
      "align_self": null,
      "border": null,
      "bottom": null,
      "display": null,
      "flex": null,
      "flex_flow": null,
      "grid_area": null,
      "grid_auto_columns": null,
      "grid_auto_flow": null,
      "grid_auto_rows": null,
      "grid_column": null,
      "grid_gap": null,
      "grid_row": null,
      "grid_template_areas": null,
      "grid_template_columns": null,
      "grid_template_rows": null,
      "height": null,
      "justify_content": null,
      "justify_items": null,
      "left": null,
      "margin": null,
      "max_height": null,
      "max_width": null,
      "min_height": null,
      "min_width": null,
      "object_fit": null,
      "object_position": null,
      "order": null,
      "overflow": null,
      "overflow_x": null,
      "overflow_y": null,
      "padding": null,
      "right": null,
      "top": null,
      "visibility": null,
      "width": null
     }
    },
    "5857368c43b0462785e6124402403ab0": {
     "model_module": "@jupyter-widgets/base",
     "model_module_version": "1.2.0",
     "model_name": "LayoutModel",
     "state": {
      "_model_module": "@jupyter-widgets/base",
      "_model_module_version": "1.2.0",
      "_model_name": "LayoutModel",
      "_view_count": null,
      "_view_module": "@jupyter-widgets/base",
      "_view_module_version": "1.2.0",
      "_view_name": "LayoutView",
      "align_content": null,
      "align_items": null,
      "align_self": null,
      "border": null,
      "bottom": null,
      "display": null,
      "flex": null,
      "flex_flow": null,
      "grid_area": null,
      "grid_auto_columns": null,
      "grid_auto_flow": null,
      "grid_auto_rows": null,
      "grid_column": null,
      "grid_gap": null,
      "grid_row": null,
      "grid_template_areas": null,
      "grid_template_columns": null,
      "grid_template_rows": null,
      "height": null,
      "justify_content": null,
      "justify_items": null,
      "left": null,
      "margin": null,
      "max_height": null,
      "max_width": null,
      "min_height": null,
      "min_width": null,
      "object_fit": null,
      "object_position": null,
      "order": null,
      "overflow": null,
      "overflow_x": null,
      "overflow_y": null,
      "padding": null,
      "right": null,
      "top": null,
      "visibility": null,
      "width": null
     }
    },
    "7ebd1c5f535f4dfdb1722cea2601bd51": {
     "model_module": "@jupyter-widgets/controls",
     "model_module_version": "1.5.0",
     "model_name": "ProgressStyleModel",
     "state": {
      "_model_module": "@jupyter-widgets/controls",
      "_model_module_version": "1.5.0",
      "_model_name": "ProgressStyleModel",
      "_view_count": null,
      "_view_module": "@jupyter-widgets/base",
      "_view_module_version": "1.2.0",
      "_view_name": "StyleView",
      "bar_color": null,
      "description_width": ""
     }
    },
    "955d2d99d2ad479ba988777214fdcd59": {
     "model_module": "@jupyter-widgets/base",
     "model_module_version": "1.2.0",
     "model_name": "LayoutModel",
     "state": {
      "_model_module": "@jupyter-widgets/base",
      "_model_module_version": "1.2.0",
      "_model_name": "LayoutModel",
      "_view_count": null,
      "_view_module": "@jupyter-widgets/base",
      "_view_module_version": "1.2.0",
      "_view_name": "LayoutView",
      "align_content": null,
      "align_items": null,
      "align_self": null,
      "border": null,
      "bottom": null,
      "display": null,
      "flex": null,
      "flex_flow": null,
      "grid_area": null,
      "grid_auto_columns": null,
      "grid_auto_flow": null,
      "grid_auto_rows": null,
      "grid_column": null,
      "grid_gap": null,
      "grid_row": null,
      "grid_template_areas": null,
      "grid_template_columns": null,
      "grid_template_rows": null,
      "height": null,
      "justify_content": null,
      "justify_items": null,
      "left": null,
      "margin": null,
      "max_height": null,
      "max_width": null,
      "min_height": null,
      "min_width": null,
      "object_fit": null,
      "object_position": null,
      "order": null,
      "overflow": null,
      "overflow_x": null,
      "overflow_y": null,
      "padding": null,
      "right": null,
      "top": null,
      "visibility": null,
      "width": null
     }
    },
    "baffd725ace345d5aa429ac668021e46": {
     "model_module": "@jupyter-widgets/controls",
     "model_module_version": "1.5.0",
     "model_name": "HTMLModel",
     "state": {
      "_dom_classes": [],
      "_model_module": "@jupyter-widgets/controls",
      "_model_module_version": "1.5.0",
      "_model_name": "HTMLModel",
      "_view_count": null,
      "_view_module": "@jupyter-widgets/controls",
      "_view_module_version": "1.5.0",
      "_view_name": "HTMLView",
      "description": "",
      "description_tooltip": null,
      "layout": "IPY_MODEL_480181df12ec43d1b1dcdd7daa42ca50",
      "placeholder": "​",
      "style": "IPY_MODEL_3b8a6dac1b9d4932b4aa1cf6b6469c0a",
      "value": "100%"
     }
    },
    "c7d4d576c18c4d6eaf9b7dd520bbd38e": {
     "model_module": "@jupyter-widgets/controls",
     "model_module_version": "1.5.0",
     "model_name": "HTMLModel",
     "state": {
      "_dom_classes": [],
      "_model_module": "@jupyter-widgets/controls",
      "_model_module_version": "1.5.0",
      "_model_name": "HTMLModel",
      "_view_count": null,
      "_view_module": "@jupyter-widgets/controls",
      "_view_module_version": "1.5.0",
      "_view_name": "HTMLView",
      "description": "",
      "description_tooltip": null,
      "layout": "IPY_MODEL_5857368c43b0462785e6124402403ab0",
      "placeholder": "​",
      "style": "IPY_MODEL_e126f12961394f88a47ad9d709922301",
      "value": " 56/56 [01:23&lt;00:00,  1.02it/s]"
     }
    },
    "e126f12961394f88a47ad9d709922301": {
     "model_module": "@jupyter-widgets/controls",
     "model_module_version": "1.5.0",
     "model_name": "DescriptionStyleModel",
     "state": {
      "_model_module": "@jupyter-widgets/controls",
      "_model_module_version": "1.5.0",
      "_model_name": "DescriptionStyleModel",
      "_view_count": null,
      "_view_module": "@jupyter-widgets/base",
      "_view_module_version": "1.2.0",
      "_view_name": "StyleView",
      "description_width": ""
     }
    }
   }
  }
 },
 "nbformat": 4,
 "nbformat_minor": 0
}
