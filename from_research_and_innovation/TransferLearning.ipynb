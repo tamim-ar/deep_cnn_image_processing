{
 "cells": [
  {
   "cell_type": "markdown",
   "metadata": {
    "id": "rFLwvL2YXcwt"
   },
   "source": [
    "# INSTRUCTIONS\n",
    "* [RUN THIS KERNEL](https://www.kaggle.com/nazmuddhohaansary/gcspath-for-rice-leaf-9-class-data)\n",
    "* Collect The GCS PATH: such as \n",
    "\n",
    "```'gs://kds-33dc5d420bc7282a4b7955000de5511010e42953a4fb70942d1b0112'```\n",
    "* Set The GCS_PATH=\"The value we got\""
   ]
  },
  {
   "cell_type": "code",
   "execution_count": 1,
   "metadata": {
    "executionInfo": {
     "elapsed": 10,
     "status": "ok",
     "timestamp": 1673622591016,
     "user": {
      "displayName": "Tamim Ahasan Rijon",
      "userId": "17979634579433543292"
     },
     "user_tz": -360
    },
    "id": "klP88vn8X3hb"
   },
   "outputs": [],
   "source": [
    "GCS_PATH='gs://kds-3e43dc9051dbb77874e2b92bb0ceeeab3064049538e89c1d7d9d41d6' # @param"
   ]
  },
  {
   "cell_type": "markdown",
   "metadata": {
    "id": "AnbGvxZPiUe0"
   },
   "source": [
    "# Installations"
   ]
  },
  {
   "cell_type": "code",
   "execution_count": 2,
   "metadata": {
    "executionInfo": {
     "elapsed": 10587,
     "status": "ok",
     "timestamp": 1673622601595,
     "user": {
      "displayName": "Tamim Ahasan Rijon",
      "userId": "17979634579433543292"
     },
     "user_tz": -360
    },
    "id": "jMweA6ZIVl7T"
   },
   "outputs": [],
   "source": [
    "from IPython.display import clear_output\n",
    "!pip install -U image-classifiers\n",
    "!pip install -U efficientnet\n",
    "clear_output()"
   ]
  },
  {
   "cell_type": "markdown",
   "metadata": {
    "id": "XjXqljbyWU0u"
   },
   "source": [
    "# Mount Drive \n",
    "* change working directory"
   ]
  },
  {
   "cell_type": "code",
   "execution_count": 3,
   "metadata": {
    "colab": {
     "base_uri": "https://localhost:8080/"
    },
    "executionInfo": {
     "elapsed": 33653,
     "status": "ok",
     "timestamp": 1673622635240,
     "user": {
      "displayName": "Tamim Ahasan Rijon",
      "userId": "17979634579433543292"
     },
     "user_tz": -360
    },
    "id": "z-ODbCLPT9p4",
    "outputId": "04c704b8-0a31-4dfb-b800-f1d5440cb4bd"
   },
   "outputs": [],
   "source": [
    "from google.colab import drive\n",
    "drive.mount('/content/drive')"
   ]
  },
  {
   "cell_type": "code",
   "execution_count": 4,
   "metadata": {
    "colab": {
     "base_uri": "https://localhost:8080/"
    },
    "executionInfo": {
     "elapsed": 700,
     "status": "ok",
     "timestamp": 1673622635935,
     "user": {
      "displayName": "Tamim Ahasan Rijon",
      "userId": "17979634579433543292"
     },
     "user_tz": -360
    },
    "id": "_HzZt8VrWylx",
    "outputId": "71096a72-2be3-4278-eb9f-6899c19045b3"
   },
   "outputs": [],
   "source": [
    "cd /content/drive/MyDrive/covid_19_pneumonia_tuberculosis/local/covid_19_pneumonia_tuberculosis/"
   ]
  },
  {
   "cell_type": "code",
   "execution_count": 5,
   "metadata": {
    "colab": {
     "base_uri": "https://localhost:8080/"
    },
    "executionInfo": {
     "elapsed": 5,
     "status": "ok",
     "timestamp": 1673622635935,
     "user": {
      "displayName": "Tamim Ahasan Rijon",
      "userId": "17979634579433543292"
     },
     "user_tz": -360
    },
    "id": "HbofzSesXfFe",
    "outputId": "ad8371d3-bb07-475f-e978-c28954140e89"
   },
   "outputs": [],
   "source": [
    "ls -la"
   ]
  },
  {
   "cell_type": "markdown",
   "metadata": {
    "id": "4EymdFf7yp_U"
   },
   "source": [
    "# PARAMETERS\n"
   ]
  },
  {
   "cell_type": "code",
   "execution_count": 6,
   "metadata": {
    "colab": {
     "base_uri": "https://localhost:8080/"
    },
    "executionInfo": {
     "elapsed": 465,
     "status": "ok",
     "timestamp": 1673622636398,
     "user": {
      "displayName": "Tamim Ahasan Rijon",
      "userId": "17979634579433543292"
     },
     "user_tz": -360
    },
    "id": "Q4y7rTBIxjrc",
    "outputId": "de9a207a-6eb7-40fa-b8ac-257d23450bb4"
   },
   "outputs": [],
   "source": [
    "import os \n",
    "GCS_PATH    =    'gs://kds-3e43dc9051dbb77874e2b92bb0ceeeab3064049538e89c1d7d9d41d6'\n",
    "MODEL_NAME  =    \"mobilenetv2\" # @param [\"vgg16\", \"vgg19\", \"EfficientNetB7\", \"vgg19\",\"resnet18\",\"resnet34\",\"resnet50\",\"resnet101\",\"resnet152\",\"resnet50v2\",\"resnet101v2\",\"resnet152v2\",\"resnext50\",\"resnext101\",\"densenet121\",\"densenet169\",\"densenet201\",\"inceptionv3\",\"xception\",\"inceptionresnetv2\",\"seresnet18\",\"seresnet34\",\"seresnet50\",\"seresnet101\",\"seresnet152\",\"seresnext50\",\"seresnext101\",\"senet154\",\"nasnetlarge\",\"nasnetmobile\",\"mobilenet\",\"mobilenetv2\"]\n",
    "DATA_FOLDER =    \"content/drive/MyDrive/covid_19_pneumonia_tuberculosis/data/tfrecords\"\n",
    "EPOCHS      =    250   # @param\n",
    "BUFFER_SIZE =    2048  \n",
    "MODEL_DIR =    os.path.join(os.getcwd(),\"models\",f'{MODEL_NAME}') \n",
    "\n",
    "if not os.path.exists(MODEL_DIR):\n",
    "   os.mkdir(MODEL_DIR)\n",
    "\n",
    "WEIGHT_PATH=os.path.join(MODEL_DIR,f\"{MODEL_NAME}.h5\")\n",
    "GCS_PATH    =    f'{GCS_PATH}/{DATA_FOLDER}'\n",
    "print(GCS_PATH)\n",
    "print(WEIGHT_PATH)\n",
    "\n"
   ]
  },
  {
   "cell_type": "markdown",
   "metadata": {
    "id": "gRyKZA_u1Fh4"
   },
   "source": [
    "# Config Reading"
   ]
  },
  {
   "cell_type": "code",
   "execution_count": 7,
   "metadata": {
    "colab": {
     "base_uri": "https://localhost:8080/"
    },
    "executionInfo": {
     "elapsed": 8,
     "status": "ok",
     "timestamp": 1673622636399,
     "user": {
      "displayName": "Tamim Ahasan Rijon",
      "userId": "17979634579433543292"
     },
     "user_tz": -360
    },
    "id": "jzGG2S4T1FLH",
    "outputId": "2a59daad-3c51-4730-eb91-76ecf02593f3"
   },
   "outputs": [],
   "source": [
    "import json\n",
    "\n",
    "with open('config.json') as f:\n",
    "  config = json.load(f)\n",
    "\n",
    "IMAGE_TYPE =  config['image_type']\n",
    "IMG_DIM    =  config['img_dim']\n",
    "LABELS     =  config['labels']\n",
    "NB_CHANNEL =  config['nb_channels']\n",
    "NB_CLASSES =  config['nb_classes']\n",
    "NB_TRAIN   =  config['nb_train_data']\n",
    "NB_EVAL    =  config['nb_eval_data']\n",
    "\n",
    "config"
   ]
  },
  {
   "cell_type": "markdown",
   "metadata": {
    "id": "piOjb1EY77j5"
   },
   "source": [
    "# DEFAULT OPS: TPU TFrecords"
   ]
  },
  {
   "cell_type": "markdown",
   "metadata": {
    "id": "ljnNX33-3oXh"
   },
   "source": [
    "## TPU initialize"
   ]
  },
  {
   "cell_type": "code",
   "execution_count": 8,
   "metadata": {
    "colab": {
     "base_uri": "https://localhost:8080/"
    },
    "executionInfo": {
     "elapsed": 19590,
     "status": "ok",
     "timestamp": 1673622655984,
     "user": {
      "displayName": "Tamim Ahasan Rijon",
      "userId": "17979634579433543292"
     },
     "user_tz": -360
    },
    "id": "U2calqzckRF0",
    "outputId": "e5230bb0-fb7e-4331-ccfd-f83dfb9efe1f"
   },
   "outputs": [],
   "source": [
    "import tensorflow as tf \n",
    "import os \n",
    "\n",
    "\n",
    "print(tf.__version__)\n",
    "# Detect hardware, return appropriate distribution strategy\n",
    "try:\n",
    "    tpu = tf.distribute.cluster_resolver.TPUClusterResolver()  # TPU detection. No parameters necessary if TPU_NAME environment variable is set. On Kaggle this is always the case.\n",
    "    print('Running on TPU ', tpu.master())\n",
    "except ValueError:\n",
    "    tpu = None\n",
    "\n",
    "if tpu:\n",
    "    tf.config.experimental_connect_to_cluster(tpu)\n",
    "    tf.tpu.experimental.initialize_tpu_system(tpu)\n",
    "    strategy = tf.distribute.experimental.TPUStrategy(tpu)\n",
    "else:\n",
    "    strategy = tf.distribute.get_strategy() # default distribution strategy in Tensorflow. Works on CPU and single GPU.\n",
    "\n",
    "print(\"REPLICAS: \", strategy.num_replicas_in_sync)"
   ]
  },
  {
   "cell_type": "markdown",
   "metadata": {
    "id": "kM2_ekih3sxP"
   },
   "source": [
    "## Training Params"
   ]
  },
  {
   "cell_type": "code",
   "execution_count": 9,
   "metadata": {
    "colab": {
     "base_uri": "https://localhost:8080/"
    },
    "executionInfo": {
     "elapsed": 14,
     "status": "ok",
     "timestamp": 1673622655985,
     "user": {
      "displayName": "Tamim Ahasan Rijon",
      "userId": "17979634579433543292"
     },
     "user_tz": -360
    },
    "id": "_fH9Ss4Y3iX3",
    "outputId": "e8725fbd-87e5-4b6f-b23b-3664377676a6"
   },
   "outputs": [],
   "source": [
    "BATCH_SIZE = 16 * strategy.num_replicas_in_sync\n",
    "STEPS_PER_EPOCH = NB_TRAIN//BATCH_SIZE\n",
    "EVAL_STEPS      = NB_EVAL//BATCH_SIZE\n",
    "print(STEPS_PER_EPOCH,EVAL_STEPS)"
   ]
  },
  {
   "cell_type": "markdown",
   "metadata": {
    "id": "PKeTVSaM3uvJ"
   },
   "source": [
    "## Data input function"
   ]
  },
  {
   "cell_type": "code",
   "execution_count": 10,
   "metadata": {
    "executionInfo": {
     "elapsed": 11,
     "status": "ok",
     "timestamp": 1673622655985,
     "user": {
      "displayName": "Tamim Ahasan Rijon",
      "userId": "17979634579433543292"
     },
     "user_tz": -360
    },
    "id": "QsIWYmcMt-8A"
   },
   "outputs": [],
   "source": [
    "def data_input_fn(mode): \n",
    "    '''\n",
    "      This Function generates data from gcs\n",
    "    '''\n",
    "    \n",
    "    def _parser(example):\n",
    "        feature ={  'image'  : tf.io.FixedLenFeature((),tf.string) ,\n",
    "                    'label'  : tf.io.FixedLenFeature((),tf.int64)\n",
    "        }    \n",
    "        parsed_example=tf.io.parse_single_example(example,feature)\n",
    "        image_raw=parsed_example['image']\n",
    "        image=tf.image.decode_png(image_raw,channels=NB_CHANNEL)\n",
    "        image=tf.cast(image,tf.float32)/255.0\n",
    "        image=tf.reshape(image,(IMG_DIM,IMG_DIM,NB_CHANNEL))\n",
    "        \n",
    "        idx = tf.cast(parsed_example['label'], tf.int32)\n",
    "        label=tf.one_hot(idx,NB_CLASSES,dtype=tf.float32)\n",
    "        return image,label\n",
    "\n",
    "    gcs_pattern=os.path.join(GCS_PATH,mode,'*.tfrecord')\n",
    "    file_paths = tf.io.gfile.glob(gcs_pattern)\n",
    "    dataset = tf.data.TFRecordDataset(file_paths)\n",
    "    dataset = dataset.map(_parser)\n",
    "    dataset = dataset.shuffle(BUFFER_SIZE,reshuffle_each_iteration=True)\n",
    "    dataset = dataset.repeat()\n",
    "    dataset = dataset.batch(BATCH_SIZE,drop_remainder=True)\n",
    "    dataset = dataset.prefetch(tf.data.experimental.AUTOTUNE)\n",
    "    return dataset\n"
   ]
  },
  {
   "cell_type": "markdown",
   "metadata": {
    "id": "HMs5mC_x3yIC"
   },
   "source": [
    "# Data Check"
   ]
  },
  {
   "cell_type": "code",
   "execution_count": 11,
   "metadata": {
    "colab": {
     "base_uri": "https://localhost:8080/",
     "height": 443
    },
    "executionInfo": {
     "elapsed": 7619,
     "status": "ok",
     "timestamp": 1673622663594,
     "user": {
      "displayName": "Tamim Ahasan Rijon",
      "userId": "17979634579433543292"
     },
     "user_tz": -360
    },
    "id": "p0MlgE8Auhzj",
    "outputId": "63ed227a-4824-41c2-ec20-ccd7760a214b"
   },
   "outputs": [],
   "source": [
    "import numpy as np\n",
    "import matplotlib.pyplot as plt\n",
    "%matplotlib inline\n",
    "\n",
    "train_ds  =   data_input_fn(\"train\")\n",
    "eval_ds   =   data_input_fn(\"eval\")\n",
    "\n",
    "\n",
    "for x,y in eval_ds.take(1):\n",
    "    data=np.squeeze(x[0])\n",
    "    plt.imshow(data)\n",
    "    plt.show()\n",
    "    print('Image Batch Shape:',x.shape)\n",
    "    print('Target Batch Shape:',y.shape)\n",
    "    print(y[0])"
   ]
  },
  {
   "cell_type": "markdown",
   "metadata": {
    "id": "-FUNg8BYfq4J"
   },
   "source": [
    "# MODEL definition\n"
   ]
  },
  {
   "cell_type": "markdown",
   "metadata": {
    "id": "A3TKjiZchG9o"
   },
   "source": [
    "## Callbacks\n",
    "**CHANGABLE**"
   ]
  },
  {
   "cell_type": "markdown",
   "metadata": {
    "id": "Hu_wZ3Ke3WcP"
   },
   "source": []
  },
  {
   "cell_type": "code",
   "execution_count": 12,
   "metadata": {
    "colab": {
     "base_uri": "https://localhost:8080/"
    },
    "executionInfo": {
     "elapsed": 5,
     "status": "ok",
     "timestamp": 1673622664041,
     "user": {
      "displayName": "Tamim Ahasan Rijon",
      "userId": "17979634579433543292"
     },
     "user_tz": -360
    },
    "id": "Q7_t5R56whLB",
    "outputId": "4b2d9399-e356-49d9-88b2-97b7d01e3707"
   },
   "outputs": [],
   "source": [
    "\n",
    "# reduces learning rate on plateau\n",
    "lr_reducer = tf.keras.callbacks.ReduceLROnPlateau(factor=0.1,\n",
    "                                                  cooldown= 10,\n",
    "                                                  patience=10,\n",
    "                                                  verbose =1,\n",
    "                                                  min_lr=0.1e-7)\n",
    "\n",
    "mode_autosave = tf.keras.callbacks.ModelCheckpoint(WEIGHT_PATH,\n",
    "                                                  save_best_only=True, \n",
    "                                                  verbose=1, \n",
    "                                                  period =1)\n",
    "\n",
    "# stop learining as metric on validatopn stop increasing\n",
    "early_stopping = tf.keras.callbacks.EarlyStopping(patience=15, \n",
    "                                                  verbose=1, \n",
    "                                                  mode = 'auto') \n",
    "\n",
    "callbacks = [mode_autosave, lr_reducer,early_stopping ]\n"
   ]
  },
  {
   "cell_type": "code",
   "execution_count": 13,
   "metadata": {
    "colab": {
     "base_uri": "https://localhost:8080/"
    },
    "executionInfo": {
     "elapsed": 24385,
     "status": "ok",
     "timestamp": 1673622688424,
     "user": {
      "displayName": "Tamim Ahasan Rijon",
      "userId": "17979634579433543292"
     },
     "user_tz": -360
    },
    "id": "vETk92tWOCaY",
    "outputId": "10b8298c-6b1f-43fb-c333-a7d20040ed0e"
   },
   "outputs": [],
   "source": [
    "from classification_models.tfkeras import Classifiers\n",
    "import efficientnet.tfkeras as efn\n",
    "with strategy.scope():\n",
    "    if \"EfficientNet\" not in MODEL_NAME:\n",
    "      classifier, _ = Classifiers.get(MODEL_NAME)\n",
    "    else:\n",
    "      classifier=getattr(efn,MODEL_NAME)\n",
    "    net=classifier(input_shape=(IMG_DIM,IMG_DIM,NB_CHANNEL),include_top=False,weights=\"imagenet\")\n",
    "    # freeze layers\n",
    "    for layer in net.layers:\n",
    "      layer.trainable = False\n",
    "    inp=net.input\n",
    "    x=net.output\n",
    "    # modeling\n",
    "    x=tf.keras.layers.GlobalAveragePooling2D()(x)\n",
    "    x=tf.keras.layers.Dropout(0.1)(x)\n",
    "    x=tf.keras.layers.Dense(NB_CLASSES,activation=\"softmax\")(x)\n",
    "    model=tf.keras.Model(inputs=inp,outputs=x)\n",
    "    model.compile(\n",
    "        optimizer=tf.keras.optimizers.Adam(learning_rate=1e-4),\n",
    "        loss = 'categorical_crossentropy',\n",
    "        metrics=['accuracy']\n",
    "    )\n",
    "\n",
    "\n",
    "\n",
    "\n",
    "model.summary()"
   ]
  },
  {
   "cell_type": "code",
   "execution_count": 14,
   "metadata": {
    "colab": {
     "base_uri": "https://localhost:8080/"
    },
    "executionInfo": {
     "elapsed": 841514,
     "status": "ok",
     "timestamp": 1673623529933,
     "user": {
      "displayName": "Tamim Ahasan Rijon",
      "userId": "17979634579433543292"
     },
     "user_tz": -360
    },
    "id": "ZPMnZ7_wwZjt",
    "outputId": "b941341e-a825-40e0-c4e3-4201305800ef"
   },
   "outputs": [],
   "source": [
    "history = model.fit(train_ds,\n",
    "                    steps_per_epoch= STEPS_PER_EPOCH,\n",
    "                    epochs=EPOCHS,\n",
    "                    verbose=1, \n",
    "                    validation_data=eval_ds,\n",
    "                    validation_steps=EVAL_STEPS,\n",
    "                    callbacks=callbacks)"
   ]
  },
  {
   "cell_type": "markdown",
   "metadata": {
    "id": "q4oacOBk4F0b"
   },
   "source": [
    "## Model history"
   ]
  },
  {
   "cell_type": "markdown",
   "metadata": {
    "id": "qIiB57jzISdt"
   },
   "source": [
    "# Results\n",
    "\n"
   ]
  },
  {
   "cell_type": "code",
   "execution_count": 15,
   "metadata": {
    "colab": {
     "base_uri": "https://localhost:8080/",
     "height": 54
    },
    "executionInfo": {
     "elapsed": 1259,
     "status": "ok",
     "timestamp": 1673623531189,
     "user": {
      "displayName": "Tamim Ahasan Rijon",
      "userId": "17979634579433543292"
     },
     "user_tz": -360
    },
    "id": "SqdWXP41p5c6",
    "outputId": "8670b4a3-b186-4c39-dec9-88112d043049"
   },
   "outputs": [],
   "source": [
    "def plot_history(history,MODEL_DIR,iden):\n",
    "    \"\"\"\n",
    "    Plots model training history \n",
    "    \"\"\"\n",
    "    fig, (ax_loss, ax_acc) = plt.subplots(1, 2, figsize=(15,5))\n",
    "    ax_loss.plot(history.epoch, history.history[\"loss\"], label=\"Train loss\")\n",
    "    ax_loss.plot(history.epoch, history.history[\"val_loss\"], label=\"Validation loss\")\n",
    "    ax_loss.legend()\n",
    "    ax_acc.plot(history.epoch, history.history[\"accuracy\"], label=\"Train Accuracy\")\n",
    "    ax_acc.plot(history.epoch, history.history[\"val_accuracy\"], label=\"Validation Accuracy\")\n",
    "    ax_acc.legend()\n",
    "    plt.savefig( os.path.join(MODEL_DIR,f\"{iden}.png\"))\n",
    "    plt.show()\n",
    "\n",
    "# show history\n",
    "plot_history(history,MODEL_DIR,f\"{MODEL_NAME}\")"
   ]
  },
  {
   "cell_type": "markdown",
   "metadata": {
    "id": "TTdWAeuk78tK"
   },
   "source": [
    "# Model Evaluation on pure testing"
   ]
  },
  {
   "cell_type": "code",
   "execution_count": 16,
   "metadata": {
    "colab": {
     "base_uri": "https://localhost:8080/"
    },
    "executionInfo": {
     "elapsed": 11424,
     "status": "ok",
     "timestamp": 1673623542602,
     "user": {
      "displayName": "Tamim Ahasan Rijon",
      "userId": "17979634579433543292"
     },
     "user_tz": -360
    },
    "id": "wQ9L_zap8BDV",
    "outputId": "1bb2f251-0d45-4ce0-e246-ba531511a642"
   },
   "outputs": [],
   "source": [
    "model.load_weights(WEIGHT_PATH)\n",
    "test_ds   =   data_input_fn(\"test\")\n",
    "result = model.evaluate(test_ds,steps=EVAL_STEPS )\n",
    "dict(zip(model.metrics_names, result))"
   ]
  },
  {
   "cell_type": "code",
   "execution_count": 17,
   "metadata": {
    "colab": {
     "base_uri": "https://localhost:8080/",
     "height": 1000,
     "referenced_widgets": [
      "3423c9aa5deb40e597898e0a8abda88d",
      "f64d444f4c8e46078dd92f4c5bf076ad",
      "22c63bda7670474f960d3c677495fa45",
      "6c6162432f9b48c4821d58e8da16cbca",
      "4cba87177a474d54b690bd5399f094d3",
      "134c7655fd5b49768856589c1f1e126f",
      "eba4665c4229451e9010054ed3a38f9d",
      "00cba19cc9b94e01ae30e56f598f62e2",
      "cfda81efce484d3c9e09e45927011520",
      "8ebbd2edfc73463c830a74cfb1bfc210",
      "56c0b23a29294caa92a54d68fcbff7f5"
     ]
    },
    "executionInfo": {
     "elapsed": 48767,
     "status": "ok",
     "timestamp": 1673623591354,
     "user": {
      "displayName": "Tamim Ahasan Rijon",
      "userId": "17979634579433543292"
     },
     "user_tz": -360
    },
    "id": "-8bceCW8glCA",
    "outputId": "ef118d33-9f55-420e-b7d3-de338ba44d14"
   },
   "outputs": [],
   "source": [
    "from tqdm.auto import tqdm\n",
    "gts=[]\n",
    "preds=[]\n",
    "\n",
    "for x,y in tqdm(eval_ds.take(EVAL_STEPS)):\n",
    "  y_pred=model.predict(x)\n",
    "  gt= list(np.argmax(y, axis=1))\n",
    "  pred=list(np.argmax(y_pred, axis=1))\n",
    "  gts+=gt\n",
    "  preds+=pred\n",
    "\n",
    "gts=np.array(gts)\n",
    "preds=np.array(preds)"
   ]
  },
  {
   "cell_type": "markdown",
   "metadata": {
    "id": "8n3n631Kiknd"
   },
   "source": [
    "# Saving"
   ]
  },
  {
   "cell_type": "code",
   "execution_count": 18,
   "metadata": {
    "colab": {
     "base_uri": "https://localhost:8080/"
    },
    "executionInfo": {
     "elapsed": 688,
     "status": "ok",
     "timestamp": 1673623592030,
     "user": {
      "displayName": "Tamim Ahasan Rijon",
      "userId": "17979634579433543292"
     },
     "user_tz": -360
    },
    "id": "2J30F7LajG_W",
    "outputId": "3828794b-de53-4968-a6f7-c54176ede3fd"
   },
   "outputs": [],
   "source": [
    "from sklearn.metrics import classification_report\n",
    "report =classification_report(gts, preds, target_names=LABELS,output_dict=True)\n",
    "report"
   ]
  },
  {
   "cell_type": "code",
   "execution_count": 19,
   "metadata": {
    "executionInfo": {
     "elapsed": 3,
     "status": "ok",
     "timestamp": 1673623592031,
     "user": {
      "displayName": "Tamim Ahasan Rijon",
      "userId": "17979634579433543292"
     },
     "user_tz": -360
    },
    "id": "__w43LkRfCOl"
   },
   "outputs": [],
   "source": [
    "import json\n",
    "with open(os.path.join(MODEL_DIR,f\"report_{MODEL_NAME}.json\"), 'w') as fp:\n",
    "    json.dump(report, fp)"
   ]
  },
  {
   "cell_type": "code",
   "execution_count": 20,
   "metadata": {
    "colab": {
     "base_uri": "https://localhost:8080/",
     "height": 54
    },
    "executionInfo": {
     "elapsed": 952,
     "status": "ok",
     "timestamp": 1673623592980,
     "user": {
      "displayName": "Tamim Ahasan Rijon",
      "userId": "17979634579433543292"
     },
     "user_tz": -360
    },
    "id": "aoWeyPWCjla5",
    "outputId": "ccd55a58-02cf-4d0c-82ed-83bd161d0c9f"
   },
   "outputs": [],
   "source": [
    "from sklearn.metrics import confusion_matrix\n",
    "import seaborn as sn\n",
    "import pandas as pd\n",
    "import matplotlib.pyplot as plt\n",
    "con_mat=confusion_matrix(preds, gts)\n",
    "df_cm = pd.DataFrame(con_mat, \n",
    "                     index = LABELS,\n",
    "                     columns = LABELS)\n",
    "plt.figure(figsize = (20,20))\n",
    "sn.set(font_scale=1.4)\n",
    "sn.heatmap(df_cm, annot=True,annot_kws={\"size\": 16},fmt='g')\n",
    "plt.savefig( os.path.join(MODEL_DIR,f\"confusion_{MODEL_NAME}.png\"))\n",
    "plt.show()"
   ]
  }
 ],
 "metadata": {
  "accelerator": "TPU",
  "colab": {
   "provenance": []
  },
  "gpuClass": "standard",
  "kernelspec": {
   "display_name": "Python 3",
   "name": "python3"
  },
  "widgets": {
   "application/vnd.jupyter.widget-state+json": {
    "00cba19cc9b94e01ae30e56f598f62e2": {
     "model_module": "@jupyter-widgets/base",
     "model_module_version": "1.2.0",
     "model_name": "LayoutModel",
     "state": {
      "_model_module": "@jupyter-widgets/base",
      "_model_module_version": "1.2.0",
      "_model_name": "LayoutModel",
      "_view_count": null,
      "_view_module": "@jupyter-widgets/base",
      "_view_module_version": "1.2.0",
      "_view_name": "LayoutView",
      "align_content": null,
      "align_items": null,
      "align_self": null,
      "border": null,
      "bottom": null,
      "display": null,
      "flex": null,
      "flex_flow": null,
      "grid_area": null,
      "grid_auto_columns": null,
      "grid_auto_flow": null,
      "grid_auto_rows": null,
      "grid_column": null,
      "grid_gap": null,
      "grid_row": null,
      "grid_template_areas": null,
      "grid_template_columns": null,
      "grid_template_rows": null,
      "height": null,
      "justify_content": null,
      "justify_items": null,
      "left": null,
      "margin": null,
      "max_height": null,
      "max_width": null,
      "min_height": null,
      "min_width": null,
      "object_fit": null,
      "object_position": null,
      "order": null,
      "overflow": null,
      "overflow_x": null,
      "overflow_y": null,
      "padding": null,
      "right": null,
      "top": null,
      "visibility": null,
      "width": null
     }
    },
    "134c7655fd5b49768856589c1f1e126f": {
     "model_module": "@jupyter-widgets/base",
     "model_module_version": "1.2.0",
     "model_name": "LayoutModel",
     "state": {
      "_model_module": "@jupyter-widgets/base",
      "_model_module_version": "1.2.0",
      "_model_name": "LayoutModel",
      "_view_count": null,
      "_view_module": "@jupyter-widgets/base",
      "_view_module_version": "1.2.0",
      "_view_name": "LayoutView",
      "align_content": null,
      "align_items": null,
      "align_self": null,
      "border": null,
      "bottom": null,
      "display": null,
      "flex": null,
      "flex_flow": null,
      "grid_area": null,
      "grid_auto_columns": null,
      "grid_auto_flow": null,
      "grid_auto_rows": null,
      "grid_column": null,
      "grid_gap": null,
      "grid_row": null,
      "grid_template_areas": null,
      "grid_template_columns": null,
      "grid_template_rows": null,
      "height": null,
      "justify_content": null,
      "justify_items": null,
      "left": null,
      "margin": null,
      "max_height": null,
      "max_width": null,
      "min_height": null,
      "min_width": null,
      "object_fit": null,
      "object_position": null,
      "order": null,
      "overflow": null,
      "overflow_x": null,
      "overflow_y": null,
      "padding": null,
      "right": null,
      "top": null,
      "visibility": null,
      "width": null
     }
    },
    "22c63bda7670474f960d3c677495fa45": {
     "model_module": "@jupyter-widgets/controls",
     "model_module_version": "1.5.0",
     "model_name": "FloatProgressModel",
     "state": {
      "_dom_classes": [],
      "_model_module": "@jupyter-widgets/controls",
      "_model_module_version": "1.5.0",
      "_model_name": "FloatProgressModel",
      "_view_count": null,
      "_view_module": "@jupyter-widgets/controls",
      "_view_module_version": "1.5.0",
      "_view_name": "ProgressView",
      "bar_style": "success",
      "description": "",
      "description_tooltip": null,
      "layout": "IPY_MODEL_00cba19cc9b94e01ae30e56f598f62e2",
      "max": 56,
      "min": 0,
      "orientation": "horizontal",
      "style": "IPY_MODEL_cfda81efce484d3c9e09e45927011520",
      "value": 56
     }
    },
    "3423c9aa5deb40e597898e0a8abda88d": {
     "model_module": "@jupyter-widgets/controls",
     "model_module_version": "1.5.0",
     "model_name": "HBoxModel",
     "state": {
      "_dom_classes": [],
      "_model_module": "@jupyter-widgets/controls",
      "_model_module_version": "1.5.0",
      "_model_name": "HBoxModel",
      "_view_count": null,
      "_view_module": "@jupyter-widgets/controls",
      "_view_module_version": "1.5.0",
      "_view_name": "HBoxView",
      "box_style": "",
      "children": [
       "IPY_MODEL_f64d444f4c8e46078dd92f4c5bf076ad",
       "IPY_MODEL_22c63bda7670474f960d3c677495fa45",
       "IPY_MODEL_6c6162432f9b48c4821d58e8da16cbca"
      ],
      "layout": "IPY_MODEL_4cba87177a474d54b690bd5399f094d3"
     }
    },
    "4cba87177a474d54b690bd5399f094d3": {
     "model_module": "@jupyter-widgets/base",
     "model_module_version": "1.2.0",
     "model_name": "LayoutModel",
     "state": {
      "_model_module": "@jupyter-widgets/base",
      "_model_module_version": "1.2.0",
      "_model_name": "LayoutModel",
      "_view_count": null,
      "_view_module": "@jupyter-widgets/base",
      "_view_module_version": "1.2.0",
      "_view_name": "LayoutView",
      "align_content": null,
      "align_items": null,
      "align_self": null,
      "border": null,
      "bottom": null,
      "display": null,
      "flex": null,
      "flex_flow": null,
      "grid_area": null,
      "grid_auto_columns": null,
      "grid_auto_flow": null,
      "grid_auto_rows": null,
      "grid_column": null,
      "grid_gap": null,
      "grid_row": null,
      "grid_template_areas": null,
      "grid_template_columns": null,
      "grid_template_rows": null,
      "height": null,
      "justify_content": null,
      "justify_items": null,
      "left": null,
      "margin": null,
      "max_height": null,
      "max_width": null,
      "min_height": null,
      "min_width": null,
      "object_fit": null,
      "object_position": null,
      "order": null,
      "overflow": null,
      "overflow_x": null,
      "overflow_y": null,
      "padding": null,
      "right": null,
      "top": null,
      "visibility": null,
      "width": null
     }
    },
    "56c0b23a29294caa92a54d68fcbff7f5": {
     "model_module": "@jupyter-widgets/controls",
     "model_module_version": "1.5.0",
     "model_name": "DescriptionStyleModel",
     "state": {
      "_model_module": "@jupyter-widgets/controls",
      "_model_module_version": "1.5.0",
      "_model_name": "DescriptionStyleModel",
      "_view_count": null,
      "_view_module": "@jupyter-widgets/base",
      "_view_module_version": "1.2.0",
      "_view_name": "StyleView",
      "description_width": ""
     }
    },
    "6c6162432f9b48c4821d58e8da16cbca": {
     "model_module": "@jupyter-widgets/controls",
     "model_module_version": "1.5.0",
     "model_name": "HTMLModel",
     "state": {
      "_dom_classes": [],
      "_model_module": "@jupyter-widgets/controls",
      "_model_module_version": "1.5.0",
      "_model_name": "HTMLModel",
      "_view_count": null,
      "_view_module": "@jupyter-widgets/controls",
      "_view_module_version": "1.5.0",
      "_view_name": "HTMLView",
      "description": "",
      "description_tooltip": null,
      "layout": "IPY_MODEL_8ebbd2edfc73463c830a74cfb1bfc210",
      "placeholder": "​",
      "style": "IPY_MODEL_56c0b23a29294caa92a54d68fcbff7f5",
      "value": " 56/56 [00:48&lt;00:00,  1.34it/s]"
     }
    },
    "8ebbd2edfc73463c830a74cfb1bfc210": {
     "model_module": "@jupyter-widgets/base",
     "model_module_version": "1.2.0",
     "model_name": "LayoutModel",
     "state": {
      "_model_module": "@jupyter-widgets/base",
      "_model_module_version": "1.2.0",
      "_model_name": "LayoutModel",
      "_view_count": null,
      "_view_module": "@jupyter-widgets/base",
      "_view_module_version": "1.2.0",
      "_view_name": "LayoutView",
      "align_content": null,
      "align_items": null,
      "align_self": null,
      "border": null,
      "bottom": null,
      "display": null,
      "flex": null,
      "flex_flow": null,
      "grid_area": null,
      "grid_auto_columns": null,
      "grid_auto_flow": null,
      "grid_auto_rows": null,
      "grid_column": null,
      "grid_gap": null,
      "grid_row": null,
      "grid_template_areas": null,
      "grid_template_columns": null,
      "grid_template_rows": null,
      "height": null,
      "justify_content": null,
      "justify_items": null,
      "left": null,
      "margin": null,
      "max_height": null,
      "max_width": null,
      "min_height": null,
      "min_width": null,
      "object_fit": null,
      "object_position": null,
      "order": null,
      "overflow": null,
      "overflow_x": null,
      "overflow_y": null,
      "padding": null,
      "right": null,
      "top": null,
      "visibility": null,
      "width": null
     }
    },
    "cfda81efce484d3c9e09e45927011520": {
     "model_module": "@jupyter-widgets/controls",
     "model_module_version": "1.5.0",
     "model_name": "ProgressStyleModel",
     "state": {
      "_model_module": "@jupyter-widgets/controls",
      "_model_module_version": "1.5.0",
      "_model_name": "ProgressStyleModel",
      "_view_count": null,
      "_view_module": "@jupyter-widgets/base",
      "_view_module_version": "1.2.0",
      "_view_name": "StyleView",
      "bar_color": null,
      "description_width": ""
     }
    },
    "eba4665c4229451e9010054ed3a38f9d": {
     "model_module": "@jupyter-widgets/controls",
     "model_module_version": "1.5.0",
     "model_name": "DescriptionStyleModel",
     "state": {
      "_model_module": "@jupyter-widgets/controls",
      "_model_module_version": "1.5.0",
      "_model_name": "DescriptionStyleModel",
      "_view_count": null,
      "_view_module": "@jupyter-widgets/base",
      "_view_module_version": "1.2.0",
      "_view_name": "StyleView",
      "description_width": ""
     }
    },
    "f64d444f4c8e46078dd92f4c5bf076ad": {
     "model_module": "@jupyter-widgets/controls",
     "model_module_version": "1.5.0",
     "model_name": "HTMLModel",
     "state": {
      "_dom_classes": [],
      "_model_module": "@jupyter-widgets/controls",
      "_model_module_version": "1.5.0",
      "_model_name": "HTMLModel",
      "_view_count": null,
      "_view_module": "@jupyter-widgets/controls",
      "_view_module_version": "1.5.0",
      "_view_name": "HTMLView",
      "description": "",
      "description_tooltip": null,
      "layout": "IPY_MODEL_134c7655fd5b49768856589c1f1e126f",
      "placeholder": "​",
      "style": "IPY_MODEL_eba4665c4229451e9010054ed3a38f9d",
      "value": "100%"
     }
    }
   }
  }
 },
 "nbformat": 4,
 "nbformat_minor": 0
}
