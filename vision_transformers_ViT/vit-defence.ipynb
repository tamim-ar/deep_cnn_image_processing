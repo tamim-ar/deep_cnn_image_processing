{
 "cells": [
  {
   "cell_type": "markdown",
   "metadata": {},
   "source": [
    "# Install packages"
   ]
  },
  {
   "cell_type": "code",
   "execution_count": null,
   "metadata": {
    "execution": {
     "iopub.execute_input": "2024-12-02T06:29:24.634333Z",
     "iopub.status.busy": "2024-12-02T06:29:24.634074Z",
     "iopub.status.idle": "2024-12-02T06:29:33.970820Z",
     "shell.execute_reply": "2024-12-02T06:29:33.969756Z",
     "shell.execute_reply.started": "2024-12-02T06:29:24.634309Z"
    },
    "trusted": true
   },
   "outputs": [],
   "source": [
    "%%capture\n",
    "!pip install torchinfo"
   ]
  },
  {
   "cell_type": "markdown",
   "metadata": {},
   "source": [
    "# Import libraries"
   ]
  },
  {
   "cell_type": "code",
   "execution_count": null,
   "metadata": {
    "execution": {
     "iopub.execute_input": "2024-12-02T06:29:33.972978Z",
     "iopub.status.busy": "2024-12-02T06:29:33.972700Z",
     "iopub.status.idle": "2024-12-02T06:29:38.132551Z",
     "shell.execute_reply": "2024-12-02T06:29:38.131681Z",
     "shell.execute_reply.started": "2024-12-02T06:29:33.972949Z"
    },
    "trusted": true
   },
   "outputs": [],
   "source": [
    "# Data Handling\n",
    "import pandas as pd\n",
    "import numpy as np\n",
    "\n",
    "# Data Visualization\n",
    "import matplotlib.pyplot as plt\n",
    "import seaborn as sns\n",
    "from PIL import Image\n",
    "import cv2\n",
    "\n",
    "# Preprocessing\n",
    "from sklearn.model_selection import train_test_split\n",
    "\n",
    "# Torch\n",
    "import torch\n",
    "from torch.utils.data import Dataset, DataLoader\n",
    "from torch import nn, optim\n",
    "from torchinfo import summary\n",
    "from torchvision.models import vit_b_16, ViT_B_16_Weights\n",
    "\n",
    "# Metrics\n",
    "from sklearn.metrics import accuracy_score\n",
    "from sklearn.metrics import confusion_matrix\n",
    "\n",
    "# os\n",
    "import os\n",
    "\n",
    "# Path\n",
    "from pathlib import Path\n",
    "\n",
    "# tqdm\n",
    "from tqdm.auto import tqdm\n",
    "\n",
    "# OrderedDict\n",
    "from collections import OrderedDict\n",
    "\n",
    "# random\n",
    "import random\n",
    "\n",
    "# warnings\n",
    "import warnings\n",
    "warnings.filterwarnings(\"ignore\")"
   ]
  },
  {
   "cell_type": "markdown",
   "metadata": {},
   "source": [
    "# Load data and EDA"
   ]
  },
  {
   "cell_type": "code",
   "execution_count": null,
   "metadata": {
    "execution": {
     "iopub.execute_input": "2024-12-02T06:29:38.133984Z",
     "iopub.status.busy": "2024-12-02T06:29:38.133609Z",
     "iopub.status.idle": "2024-12-02T06:29:38.332609Z",
     "shell.execute_reply": "2024-12-02T06:29:38.331881Z",
     "shell.execute_reply.started": "2024-12-02T06:29:38.133962Z"
    },
    "trusted": true
   },
   "outputs": [],
   "source": [
    "IMAGE_PATH = Path(\"/kaggle/input/monkey-species-image-final\")\n",
    "\n",
    "IMAGE_PATH_LIST = list(IMAGE_PATH.glob(\"*/*.jpg\"))\n",
    "\n",
    "print(f'Total Images = {len(IMAGE_PATH_LIST)}')"
   ]
  },
  {
   "cell_type": "code",
   "execution_count": null,
   "metadata": {
    "execution": {
     "iopub.execute_input": "2024-12-02T06:29:38.334449Z",
     "iopub.status.busy": "2024-12-02T06:29:38.334190Z",
     "iopub.status.idle": "2024-12-02T06:29:38.361372Z",
     "shell.execute_reply": "2024-12-02T06:29:38.360677Z",
     "shell.execute_reply.started": "2024-12-02T06:29:38.334427Z"
    },
    "trusted": true
   },
   "outputs": [],
   "source": [
    "classes = os.listdir(IMAGE_PATH)\n",
    "classes = sorted(classes)\n",
    "\n",
    "print('==' * 20)\n",
    "print(' ' * 10, f'Total Classes = {len(classes)}')\n",
    "print('==' * 20)\n",
    "for c in classes:\n",
    "    total_images_class = list(Path(os.path.join(IMAGE_PATH,c)).glob(\"*.jpg\"))\n",
    "    print(f'* {c}: {len(total_images_class)} images')\n"
   ]
  },
  {
   "cell_type": "code",
   "execution_count": null,
   "metadata": {
    "execution": {
     "iopub.execute_input": "2024-12-02T06:29:38.362529Z",
     "iopub.status.busy": "2024-12-02T06:29:38.362296Z",
     "iopub.status.idle": "2024-12-02T06:29:43.064897Z",
     "shell.execute_reply": "2024-12-02T06:29:43.063970Z",
     "shell.execute_reply.started": "2024-12-02T06:29:38.362508Z"
    },
    "trusted": true
   },
   "outputs": [],
   "source": [
    "NUM_IMAGES = 3\n",
    "\n",
    "fig,ax = plt.subplots(nrows = len(classes), ncols = NUM_IMAGES, figsize = (10,30))\n",
    "p = 0\n",
    "for c in classes:\n",
    "    total_images_class = list(Path(os.path.join(IMAGE_PATH,c)).glob(\"*.jpg\"))\n",
    "    images_selected = random.choices(total_images_class, k = NUM_IMAGES)\n",
    "    \n",
    "    for i,img_path in enumerate(images_selected):\n",
    "        img_bgr = cv2.imread(str(img_path))\n",
    "        img_rgb = cv2.cvtColor(img_bgr, cv2.COLOR_BGR2RGB)\n",
    "        ax[p,i].imshow(img_rgb)\n",
    "        ax[p,i].axis('off')\n",
    "        ax[p,i].set_title(f'Class: {c}\\nShape: {img_rgb.shape}')\n",
    "        \n",
    "    p += 1\n",
    "    \n",
    "fig.tight_layout()\n",
    "fig.show()"
   ]
  },
  {
   "cell_type": "markdown",
   "metadata": {},
   "source": [
    "# Image Preprocessing"
   ]
  },
  {
   "cell_type": "code",
   "execution_count": null,
   "metadata": {
    "execution": {
     "iopub.execute_input": "2024-12-02T06:29:43.066347Z",
     "iopub.status.busy": "2024-12-02T06:29:43.066088Z",
     "iopub.status.idle": "2024-12-02T06:29:43.114596Z",
     "shell.execute_reply": "2024-12-02T06:29:43.113763Z",
     "shell.execute_reply.started": "2024-12-02T06:29:43.066324Z"
    },
    "trusted": true
   },
   "outputs": [],
   "source": [
    "images_path = [None] * len(IMAGE_PATH_LIST)\n",
    "labels = [None] * len(IMAGE_PATH_LIST)\n",
    "\n",
    "for i,img_path in enumerate(IMAGE_PATH_LIST):\n",
    "    images_path[i] = img_path\n",
    "    labels[i] = img_path.parent.stem\n",
    "    \n",
    "df_path_and_label = pd.DataFrame({'path':images_path, \n",
    "                                  'label':labels})\n",
    "\n",
    "df_path_and_label.head()"
   ]
  },
  {
   "cell_type": "markdown",
   "metadata": {},
   "source": [
    "- **train = 70%**\n",
    "- **validation = 15%**\n",
    "- **test = 15%**"
   ]
  },
  {
   "cell_type": "code",
   "execution_count": null,
   "metadata": {
    "execution": {
     "iopub.execute_input": "2024-12-02T06:29:43.115990Z",
     "iopub.status.busy": "2024-12-02T06:29:43.115744Z",
     "iopub.status.idle": "2024-12-02T06:29:43.137314Z",
     "shell.execute_reply": "2024-12-02T06:29:43.136708Z",
     "shell.execute_reply.started": "2024-12-02T06:29:43.115969Z"
    },
    "trusted": true
   },
   "outputs": [],
   "source": [
    "SEED = 42\n",
    "\n",
    "df_train, df_rest = train_test_split(df_path_and_label, test_size = 0.3, \n",
    "                                     random_state = SEED, stratify = df_path_and_label[\"label\"])\n",
    "\n",
    "df_valid, df_test = train_test_split(df_rest, test_size = 0.5, \n",
    "                                     random_state = SEED, stratify = df_rest[\"label\"])"
   ]
  },
  {
   "cell_type": "code",
   "execution_count": null,
   "metadata": {
    "execution": {
     "iopub.execute_input": "2024-12-02T06:29:43.138383Z",
     "iopub.status.busy": "2024-12-02T06:29:43.138172Z",
     "iopub.status.idle": "2024-12-02T06:29:43.162276Z",
     "shell.execute_reply": "2024-12-02T06:29:43.161632Z",
     "shell.execute_reply.started": "2024-12-02T06:29:43.138365Z"
    },
    "trusted": true
   },
   "outputs": [],
   "source": [
    "# Print the total number of images in each set\n",
    "print(f'Total Images: {len(IMAGE_PATH_LIST)}')\n",
    "print(f'Total Training Images: {len(df_train)}')\n",
    "print(f'Total Validation Images: {len(df_valid)}')\n",
    "print(f'Total Test Images: {len(df_test)}')\n",
    "\n",
    "# Print the number of images by class in each set\n",
    "print('\\nTrain Set:')\n",
    "for c in classes:\n",
    "    total_images_class = df_train[df_train[\"label\"] == c]\n",
    "    print(f'* {c}: {len(total_images_class)} images')\n",
    "\n",
    "print('\\nValidation Set:')\n",
    "for c in classes:\n",
    "    total_images_class = df_valid[df_valid[\"label\"] == c]\n",
    "    print(f'* {c}: {len(total_images_class)} images')\n",
    "\n",
    "print('\\nTest Set:')\n",
    "for c in classes:\n",
    "    total_images_class = df_test[df_test[\"label\"] == c]\n",
    "    print(f'* {c}: {len(total_images_class)} images')"
   ]
  },
  {
   "cell_type": "code",
   "execution_count": null,
   "metadata": {
    "execution": {
     "iopub.execute_input": "2024-12-02T06:29:43.163353Z",
     "iopub.status.busy": "2024-12-02T06:29:43.163126Z",
     "iopub.status.idle": "2024-12-02T06:29:43.168911Z",
     "shell.execute_reply": "2024-12-02T06:29:43.168104Z",
     "shell.execute_reply.started": "2024-12-02T06:29:43.163334Z"
    },
    "trusted": true
   },
   "outputs": [],
   "source": [
    "# We have to define the mapping of the classes to convert the labels to numbers.\n",
    "label_map = dict(zip(classes, range(len(classes))))\n",
    "label_map"
   ]
  },
  {
   "cell_type": "code",
   "execution_count": null,
   "metadata": {
    "execution": {
     "iopub.execute_input": "2024-12-02T06:29:43.172543Z",
     "iopub.status.busy": "2024-12-02T06:29:43.172285Z",
     "iopub.status.idle": "2024-12-02T06:29:43.179343Z",
     "shell.execute_reply": "2024-12-02T06:29:43.178697Z",
     "shell.execute_reply.started": "2024-12-02T06:29:43.172512Z"
    },
    "trusted": true
   },
   "outputs": [],
   "source": [
    "# Now we define the transformations that we are going to apply.\n",
    "weights = ViT_B_16_Weights.DEFAULT\n",
    "auto_transforms = weights.transforms()\n",
    "auto_transforms"
   ]
  },
  {
   "cell_type": "code",
   "execution_count": null,
   "metadata": {
    "execution": {
     "iopub.execute_input": "2024-12-02T06:29:43.180704Z",
     "iopub.status.busy": "2024-12-02T06:29:43.180383Z",
     "iopub.status.idle": "2024-12-02T06:29:43.190109Z",
     "shell.execute_reply": "2024-12-02T06:29:43.189382Z",
     "shell.execute_reply.started": "2024-12-02T06:29:43.180674Z"
    },
    "trusted": true
   },
   "outputs": [],
   "source": [
    "class CustomImageDataset(Dataset):\n",
    "    def __init__(self, df:pd.DataFrame, label_map:dict, transforms):\n",
    "        self.df = df\n",
    "        self.label_map = label_map\n",
    "        self.transforms = transforms\n",
    "        \n",
    "    def __len__(self):\n",
    "        return len(self.df)\n",
    "    \n",
    "    def __getitem__(self,idx):\n",
    "        df_new = self.df.copy()\n",
    "        df_new = df_new.reset_index(drop = True)\n",
    "        df_new[\"label\"] = df_new[\"label\"].map(self.label_map)\n",
    "        image_path = df_new.iloc[idx, 0]\n",
    "        image = Image.open(image_path).convert(\"RGB\")\n",
    "        image = self.transforms(image)\n",
    "        label = df_new.iloc[idx, 1]\n",
    "        \n",
    "        return image,label"
   ]
  },
  {
   "cell_type": "code",
   "execution_count": null,
   "metadata": {
    "execution": {
     "iopub.execute_input": "2024-12-02T06:29:43.191332Z",
     "iopub.status.busy": "2024-12-02T06:29:43.191109Z",
     "iopub.status.idle": "2024-12-02T06:29:43.203258Z",
     "shell.execute_reply": "2024-12-02T06:29:43.202530Z",
     "shell.execute_reply.started": "2024-12-02T06:29:43.191312Z"
    },
    "trusted": true
   },
   "outputs": [],
   "source": [
    "train_dataset = CustomImageDataset(df_train, label_map, auto_transforms)\n",
    "valid_dataset = CustomImageDataset(df_valid, label_map, auto_transforms)"
   ]
  },
  {
   "cell_type": "code",
   "execution_count": null,
   "metadata": {
    "execution": {
     "iopub.execute_input": "2024-12-02T06:29:43.204495Z",
     "iopub.status.busy": "2024-12-02T06:29:43.204275Z",
     "iopub.status.idle": "2024-12-02T06:29:43.215661Z",
     "shell.execute_reply": "2024-12-02T06:29:43.214880Z",
     "shell.execute_reply.started": "2024-12-02T06:29:43.204476Z"
    },
    "trusted": true
   },
   "outputs": [],
   "source": [
    "BATCH_SIZE = 32\n",
    "NUM_WORKERS = os.cpu_count()\n",
    "\n",
    "train_dataloader = DataLoader(dataset = train_dataset, \n",
    "                              batch_size = BATCH_SIZE, \n",
    "                              shuffle = True, \n",
    "                              num_workers = NUM_WORKERS)\n",
    "\n",
    "valid_dataloader = DataLoader(dataset = valid_dataset, \n",
    "                              batch_size = BATCH_SIZE, \n",
    "                              shuffle = True, \n",
    "                              num_workers = NUM_WORKERS)"
   ]
  },
  {
   "cell_type": "code",
   "execution_count": null,
   "metadata": {
    "execution": {
     "iopub.execute_input": "2024-12-02T06:29:43.217590Z",
     "iopub.status.busy": "2024-12-02T06:29:43.216804Z",
     "iopub.status.idle": "2024-12-02T06:29:44.746286Z",
     "shell.execute_reply": "2024-12-02T06:29:44.745137Z",
     "shell.execute_reply.started": "2024-12-02T06:29:43.217560Z"
    },
    "trusted": true
   },
   "outputs": [],
   "source": [
    "# Let's visualize the dimensions of a batch.\n",
    "batch_images, batch_labels = next(iter(train_dataloader))\n",
    "\n",
    "batch_images.shape, batch_labels.shape"
   ]
  },
  {
   "cell_type": "markdown",
   "metadata": {},
   "source": [
    "# Model"
   ]
  },
  {
   "cell_type": "code",
   "execution_count": null,
   "metadata": {
    "execution": {
     "iopub.execute_input": "2024-12-02T06:29:44.747869Z",
     "iopub.status.busy": "2024-12-02T06:29:44.747546Z",
     "iopub.status.idle": "2024-12-02T06:29:44.779766Z",
     "shell.execute_reply": "2024-12-02T06:29:44.778797Z",
     "shell.execute_reply.started": "2024-12-02T06:29:44.747834Z"
    },
    "trusted": true
   },
   "outputs": [],
   "source": [
    "# GPU\n",
    "device = \"cuda\" if torch.cuda.is_available() else \"cpu\"\n",
    "device"
   ]
  },
  {
   "cell_type": "code",
   "execution_count": null,
   "metadata": {
    "execution": {
     "iopub.execute_input": "2024-12-02T06:29:44.781350Z",
     "iopub.status.busy": "2024-12-02T06:29:44.781047Z",
     "iopub.status.idle": "2024-12-02T06:29:50.928090Z",
     "shell.execute_reply": "2024-12-02T06:29:50.927390Z",
     "shell.execute_reply.started": "2024-12-02T06:29:44.781328Z"
    },
    "trusted": true
   },
   "outputs": [],
   "source": [
    "# VIT 16\n",
    "model = vit_b_16(weights = weights)"
   ]
  },
  {
   "cell_type": "code",
   "execution_count": null,
   "metadata": {
    "execution": {
     "iopub.execute_input": "2024-12-02T06:29:50.929473Z",
     "iopub.status.busy": "2024-12-02T06:29:50.929212Z",
     "iopub.status.idle": "2024-12-02T06:29:51.885812Z",
     "shell.execute_reply": "2024-12-02T06:29:51.884958Z",
     "shell.execute_reply.started": "2024-12-02T06:29:50.929451Z"
    },
    "trusted": true
   },
   "outputs": [],
   "source": [
    "# Let's visualize the architecture of the model.\n",
    "summary(model = model, \n",
    "        input_size = [32,3,224,224], \n",
    "        col_width = 15, \n",
    "        col_names = [\"input_size\", \"output_size\",\"num_params\",\"trainable\"], \n",
    "        row_settings = [\"var_names\"])"
   ]
  },
  {
   "cell_type": "code",
   "execution_count": null,
   "metadata": {
    "execution": {
     "iopub.execute_input": "2024-12-02T06:29:51.887643Z",
     "iopub.status.busy": "2024-12-02T06:29:51.887018Z",
     "iopub.status.idle": "2024-12-02T06:29:51.891689Z",
     "shell.execute_reply": "2024-12-02T06:29:51.890724Z",
     "shell.execute_reply.started": "2024-12-02T06:29:51.887610Z"
    },
    "trusted": true
   },
   "outputs": [],
   "source": [
    "for param in model.conv_proj.parameters():\n",
    "    param.requires_grad = False"
   ]
  },
  {
   "cell_type": "code",
   "execution_count": null,
   "metadata": {
    "execution": {
     "iopub.execute_input": "2024-12-02T06:29:51.892901Z",
     "iopub.status.busy": "2024-12-02T06:29:51.892628Z",
     "iopub.status.idle": "2024-12-02T06:29:51.904828Z",
     "shell.execute_reply": "2024-12-02T06:29:51.903975Z",
     "shell.execute_reply.started": "2024-12-02T06:29:51.892880Z"
    },
    "trusted": true
   },
   "outputs": [],
   "source": [
    "for param in model.encoder.parameters():\n",
    "    param.requires_grad = False"
   ]
  },
  {
   "cell_type": "code",
   "execution_count": null,
   "metadata": {
    "execution": {
     "iopub.execute_input": "2024-12-02T06:29:51.906804Z",
     "iopub.status.busy": "2024-12-02T06:29:51.906002Z",
     "iopub.status.idle": "2024-12-02T06:29:51.991916Z",
     "shell.execute_reply": "2024-12-02T06:29:51.991025Z",
     "shell.execute_reply.started": "2024-12-02T06:29:51.906773Z"
    },
    "trusted": true
   },
   "outputs": [],
   "source": [
    "# Let's see if the parameters were frozen.\n",
    "summary(model = model, \n",
    "        input_size = [32,3,224,224], \n",
    "        col_width = 15, \n",
    "        col_names = [\"input_size\", \"output_size\",\"num_params\",\"trainable\"], \n",
    "        row_settings = [\"var_names\"])"
   ]
  },
  {
   "cell_type": "code",
   "execution_count": null,
   "metadata": {
    "execution": {
     "iopub.execute_input": "2024-12-02T06:29:51.993265Z",
     "iopub.status.busy": "2024-12-02T06:29:51.993024Z",
     "iopub.status.idle": "2024-12-02T06:29:51.997620Z",
     "shell.execute_reply": "2024-12-02T06:29:51.996919Z",
     "shell.execute_reply.started": "2024-12-02T06:29:51.993238Z"
    },
    "trusted": true
   },
   "outputs": [],
   "source": [
    "output_shape = len(classes) # total classes\n",
    "\n",
    "model.heads = nn.Sequential(OrderedDict([('head', nn.Linear(in_features = 768, \n",
    "                                                            out_features = len(classes)))]))"
   ]
  },
  {
   "cell_type": "code",
   "execution_count": null,
   "metadata": {
    "execution": {
     "iopub.execute_input": "2024-12-02T06:29:51.998898Z",
     "iopub.status.busy": "2024-12-02T06:29:51.998673Z",
     "iopub.status.idle": "2024-12-02T06:29:52.179985Z",
     "shell.execute_reply": "2024-12-02T06:29:52.179092Z",
     "shell.execute_reply.started": "2024-12-02T06:29:51.998878Z"
    },
    "trusted": true
   },
   "outputs": [],
   "source": [
    "# One last time let's take a look if the last layer was modified.\n",
    "summary(model = model, \n",
    "        input_size = [32,3,224,224], \n",
    "        col_width = 15, \n",
    "        col_names = [\"input_size\", \"output_size\",\"num_params\",\"trainable\"], \n",
    "        row_settings = [\"var_names\"])"
   ]
  },
  {
   "cell_type": "code",
   "execution_count": null,
   "metadata": {
    "execution": {
     "iopub.execute_input": "2024-12-02T06:29:52.181255Z",
     "iopub.status.busy": "2024-12-02T06:29:52.181001Z",
     "iopub.status.idle": "2024-12-02T06:29:52.186018Z",
     "shell.execute_reply": "2024-12-02T06:29:52.185102Z",
     "shell.execute_reply.started": "2024-12-02T06:29:52.181231Z"
    },
    "trusted": true
   },
   "outputs": [],
   "source": [
    "loss_fn = nn.CrossEntropyLoss()\n",
    "optimizer = optim.Adam(model.parameters(), lr = 0.01)"
   ]
  },
  {
   "cell_type": "code",
   "execution_count": null,
   "metadata": {
    "execution": {
     "iopub.execute_input": "2024-12-02T06:29:52.187209Z",
     "iopub.status.busy": "2024-12-02T06:29:52.186985Z",
     "iopub.status.idle": "2024-12-02T06:29:52.196181Z",
     "shell.execute_reply": "2024-12-02T06:29:52.195446Z",
     "shell.execute_reply.started": "2024-12-02T06:29:52.187189Z"
    },
    "trusted": true
   },
   "outputs": [],
   "source": [
    "def train_step(model:torch.nn.Module, dataloader:torch.utils.data.DataLoader, \n",
    "               loss_fn:torch.nn.Module, optimizer:torch.optim.Optimizer):\n",
    "    \n",
    "    model.train()\n",
    "    \n",
    "    train_loss = 0.\n",
    "    train_accuracy = 0.\n",
    "    \n",
    "    for batch, (X,y) in enumerate(dataloader):\n",
    "        X,y = X.to(device), y.to(device)\n",
    "        optimizer.zero_grad()\n",
    "        y_pred_logit = model(X)\n",
    "        loss = loss_fn(y_pred_logit, y)\n",
    "        train_loss += loss.item()\n",
    "        \n",
    "        loss.backward()\n",
    "        optimizer.step()\n",
    "        \n",
    "        y_pred_prob = torch.softmax(y_pred_logit, dim = 1)\n",
    "        y_pred_class = torch.argmax(y_pred_prob, dim = 1)\n",
    "        train_accuracy += accuracy_score(y.cpu().numpy(), y_pred_class.detach().cpu().numpy())\n",
    "        \n",
    "    train_loss = train_loss / len(dataloader)\n",
    "    train_accuracy = train_accuracy / len(dataloader)\n",
    "    \n",
    "    return train_loss, train_accuracy"
   ]
  },
  {
   "cell_type": "code",
   "execution_count": null,
   "metadata": {
    "execution": {
     "iopub.execute_input": "2024-12-02T06:29:52.197461Z",
     "iopub.status.busy": "2024-12-02T06:29:52.197205Z",
     "iopub.status.idle": "2024-12-02T06:29:52.206269Z",
     "shell.execute_reply": "2024-12-02T06:29:52.205500Z",
     "shell.execute_reply.started": "2024-12-02T06:29:52.197441Z"
    },
    "trusted": true
   },
   "outputs": [],
   "source": [
    "def save_checkpoint(filename, model, epoch, loss, optimizer, metric):\n",
    "    state = {'filename':filename, \n",
    "             'model':model.state_dict(), \n",
    "             'epoch':epoch, \n",
    "             'loss':loss, \n",
    "             'optimizer':optimizer.state_dict(), \n",
    "             'metric':metric}\n",
    "    \n",
    "    torch.save(state, filename)"
   ]
  },
  {
   "cell_type": "code",
   "execution_count": null,
   "metadata": {
    "execution": {
     "iopub.execute_input": "2024-12-02T06:29:52.207397Z",
     "iopub.status.busy": "2024-12-02T06:29:52.207123Z",
     "iopub.status.idle": "2024-12-02T06:29:52.219830Z",
     "shell.execute_reply": "2024-12-02T06:29:52.219050Z",
     "shell.execute_reply.started": "2024-12-02T06:29:52.207375Z"
    },
    "trusted": true
   },
   "outputs": [],
   "source": [
    "def valid_step(model:torch.nn.Module, dataloader:torch.utils.data.DataLoader, \n",
    "               loss_fn:torch.nn.Module):\n",
    "    \n",
    "    model.eval()\n",
    "    \n",
    "    valid_loss = 0.\n",
    "    valid_accuracy = 0.\n",
    "    \n",
    "    with torch.inference_mode():\n",
    "        for batch, (X,y) in enumerate(dataloader):\n",
    "            X,y = X.to(device), y.to(device)\n",
    "            y_pred_logit = model(X)\n",
    "            loss = loss_fn(y_pred_logit, y)\n",
    "            valid_loss += loss.item()\n",
    "            \n",
    "            y_pred_prob = torch.softmax(y_pred_logit, dim = 1)\n",
    "            y_pred_class = torch.argmax(y_pred_prob, dim = 1)\n",
    "            valid_accuracy += accuracy_score(y.cpu().numpy(), y_pred_class.detach().cpu().numpy())\n",
    "            \n",
    "    valid_loss = valid_loss / len(dataloader)\n",
    "    valid_accuracy = valid_accuracy / len(dataloader)\n",
    "    \n",
    "    return valid_loss, valid_accuracy"
   ]
  },
  {
   "cell_type": "code",
   "execution_count": null,
   "metadata": {
    "execution": {
     "iopub.execute_input": "2024-12-02T06:29:52.221874Z",
     "iopub.status.busy": "2024-12-02T06:29:52.220886Z",
     "iopub.status.idle": "2024-12-02T06:29:52.231736Z",
     "shell.execute_reply": "2024-12-02T06:29:52.231012Z",
     "shell.execute_reply.started": "2024-12-02T06:29:52.221851Z"
    },
    "trusted": true
   },
   "outputs": [],
   "source": [
    "def train(model:torch.nn.Module, train_dataloader:torch.utils.data.DataLoader, \n",
    "          valid_dataloader:torch.utils.data.DataLoader, loss_fn:torch.nn.Module, \n",
    "          optimizer:torch.optim.Optimizer, epochs:int = 10):\n",
    "    \n",
    "    results = {\"train_loss\":[], \"train_accuracy\":[], \"valid_loss\":[], \"valid_accuracy\":[]}\n",
    "    \n",
    "    best_valid_loss = float('inf')\n",
    "    \n",
    "    for epoch in tqdm(range(epochs)):\n",
    "        \n",
    "        train_loss, train_accuracy = train_step(model = model, dataloader = train_dataloader, \n",
    "                                                loss_fn = loss_fn, optimizer = optimizer)\n",
    "        \n",
    "        valid_loss, valid_accuracy = valid_step(model = model, dataloader = valid_dataloader, \n",
    "                                                loss_fn = loss_fn)\n",
    "        \n",
    "        if valid_loss < best_valid_loss:\n",
    "            best_valid_loss = valid_loss\n",
    "            file_name = \"best_model.pth\"\n",
    "            save_checkpoint(file_name, model, epoch, best_valid_loss, optimizer, valid_accuracy)\n",
    "            \n",
    "        print(f'Epoch: {epoch + 1} | ', \n",
    "              f'Train Loss: {train_loss:.4f} | ', \n",
    "              f'Train Accuracy: {train_accuracy:.4f} | ', \n",
    "              f'Valid Loss: {valid_loss:.4f} | ', \n",
    "              f'Valid Accuracy: {valid_accuracy:.4f}')\n",
    "        \n",
    "        results[\"train_loss\"].append(train_loss)\n",
    "        results[\"train_accuracy\"].append(train_accuracy)\n",
    "        results[\"valid_loss\"].append(valid_loss)\n",
    "        results[\"valid_accuracy\"].append(valid_accuracy)\n",
    "        \n",
    "    return results"
   ]
  },
  {
   "cell_type": "markdown",
   "metadata": {},
   "source": [
    "# Training!!!"
   ]
  },
  {
   "cell_type": "code",
   "execution_count": null,
   "metadata": {
    "execution": {
     "iopub.execute_input": "2024-12-02T06:29:52.235495Z",
     "iopub.status.busy": "2024-12-02T06:29:52.235258Z",
     "iopub.status.idle": "2024-12-02T07:14:21.355727Z",
     "shell.execute_reply": "2024-12-02T07:14:21.354610Z",
     "shell.execute_reply.started": "2024-12-02T06:29:52.235468Z"
    },
    "trusted": true
   },
   "outputs": [],
   "source": [
    "EPOCHS = 25\n",
    "\n",
    "torch.cuda.manual_seed(SEED)\n",
    "torch.manual_seed(SEED)\n",
    "\n",
    "MODEL_RESULTS = train(model, train_dataloader, valid_dataloader, loss_fn, optimizer, EPOCHS)"
   ]
  },
  {
   "cell_type": "code",
   "execution_count": null,
   "metadata": {
    "execution": {
     "iopub.execute_input": "2024-12-02T07:14:21.357546Z",
     "iopub.status.busy": "2024-12-02T07:14:21.357224Z",
     "iopub.status.idle": "2024-12-02T07:14:21.366820Z",
     "shell.execute_reply": "2024-12-02T07:14:21.365913Z",
     "shell.execute_reply.started": "2024-12-02T07:14:21.357514Z"
    },
    "trusted": true
   },
   "outputs": [],
   "source": [
    "# Function to plot the loss and metric during each training epoch.\n",
    "def loss_metric_curve_plot(model_results:dict):\n",
    "    \n",
    "    train_loss = model_results[\"train_loss\"]\n",
    "    valid_loss = model_results[\"valid_loss\"]\n",
    "    \n",
    "    train_accuracy = [float(value) for value in model_results[\"train_accuracy\"]]\n",
    "    valid_accuracy = [float(value) for value in model_results[\"valid_accuracy\"]]\n",
    "    \n",
    "    fig,axes = plt.subplots(nrows = 1, ncols = 2, figsize = (10,4))\n",
    "    axes = axes.flat\n",
    "    \n",
    "    axes[0].plot(train_loss, color = \"red\", label = \"Train\")\n",
    "    axes[0].plot(valid_loss, color = \"blue\", label = \"Valid\", linestyle = '--')\n",
    "    axes[0].spines[\"top\"].set_visible(False)\n",
    "    axes[0].spines[\"right\"].set_visible(False)\n",
    "    axes[0].set_title(\"CrossEntropyLoss\", fontsize = 12, fontweight = \"bold\", color = \"black\")\n",
    "    axes[0].set_xlabel(\"Epochs\", fontsize = 10, fontweight = \"bold\", color = \"black\")\n",
    "    axes[0].set_ylabel(\"Loss\", fontsize = 10, fontweight = \"bold\", color = \"black\")\n",
    "    axes[0].legend()\n",
    "    \n",
    "    axes[1].plot(train_accuracy, color = \"red\", label = \"Train\")\n",
    "    axes[1].plot(valid_accuracy, color = \"blue\", label = \"Valid\", linestyle = '--')\n",
    "    axes[1].spines[\"top\"].set_visible(False)\n",
    "    axes[1].spines[\"right\"].set_visible(False)\n",
    "    axes[1].set_title(\"Metric of performance: Accuracy\", fontsize = 12, fontweight = \"bold\", color = \"black\")\n",
    "    axes[1].set_xlabel(\"Epochs\", fontsize = 10, fontweight = \"bold\", color = \"black\")\n",
    "    axes[1].set_ylabel(\"Score\", fontsize = 10, fontweight = \"bold\", color = \"black\")\n",
    "    axes[1].legend()\n",
    "    \n",
    "    fig.tight_layout()\n",
    "    fig.show()"
   ]
  },
  {
   "cell_type": "code",
   "execution_count": null,
   "metadata": {
    "execution": {
     "iopub.execute_input": "2024-12-02T07:14:21.368118Z",
     "iopub.status.busy": "2024-12-02T07:14:21.367859Z",
     "iopub.status.idle": "2024-12-02T07:14:21.911349Z",
     "shell.execute_reply": "2024-12-02T07:14:21.910492Z",
     "shell.execute_reply.started": "2024-12-02T07:14:21.368097Z"
    },
    "trusted": true
   },
   "outputs": [],
   "source": [
    "loss_metric_curve_plot(MODEL_RESULTS)"
   ]
  },
  {
   "cell_type": "markdown",
   "metadata": {},
   "source": [
    "# Predictions"
   ]
  },
  {
   "cell_type": "code",
   "execution_count": null,
   "metadata": {
    "execution": {
     "iopub.execute_input": "2024-12-02T07:14:21.912489Z",
     "iopub.status.busy": "2024-12-02T07:14:21.912265Z",
     "iopub.status.idle": "2024-12-02T07:14:21.918554Z",
     "shell.execute_reply": "2024-12-02T07:14:21.917670Z",
     "shell.execute_reply.started": "2024-12-02T07:14:21.912470Z"
    },
    "trusted": true
   },
   "outputs": [],
   "source": [
    "def predictions(test_dataloader:torch.utils.data.DataLoader):\n",
    "    \n",
    "    checkpoint = torch.load(\"/kaggle/working/best_model.pth\")\n",
    "    \n",
    "    loaded_model = vit_b_16()\n",
    "    loaded_model.heads = nn.Sequential(OrderedDict([('head',nn.Linear(in_features = 768, \n",
    "                                                                      out_features = output_shape))]))\n",
    "    loaded_model.load_state_dict(checkpoint[\"model\"])\n",
    "    \n",
    "    loaded_model.to(device)\n",
    "    \n",
    "    loaded_model.eval()\n",
    "    \n",
    "    y_pred_test = []\n",
    "    \n",
    "    with torch.inference_mode():\n",
    "        for X,_ in tqdm(test_dataloader):\n",
    "            X = X.to(device)\n",
    "            y_pred_logit = loaded_model(X)\n",
    "            y_pred_prob = torch.softmax(y_pred_logit, dim = 1)\n",
    "            y_pred_class = torch.argmax(y_pred_prob, dim = 1)\n",
    "            y_pred_test.append(y_pred_class.detach().cpu())\n",
    "            \n",
    "    y_pred_test = torch.cat(y_pred_test)\n",
    "    \n",
    "    return y_pred_test"
   ]
  },
  {
   "cell_type": "code",
   "execution_count": null,
   "metadata": {
    "execution": {
     "iopub.execute_input": "2024-12-02T07:14:21.920138Z",
     "iopub.status.busy": "2024-12-02T07:14:21.919825Z",
     "iopub.status.idle": "2024-12-02T07:14:21.933926Z",
     "shell.execute_reply": "2024-12-02T07:14:21.933110Z",
     "shell.execute_reply.started": "2024-12-02T07:14:21.920109Z"
    },
    "trusted": true
   },
   "outputs": [],
   "source": [
    "test_dataset = CustomImageDataset(df_test, label_map, auto_transforms)\n",
    "test_dataloader = DataLoader(dataset = test_dataset, \n",
    "                             batch_size = BATCH_SIZE, \n",
    "                             shuffle = False, \n",
    "                             num_workers = NUM_WORKERS)"
   ]
  },
  {
   "cell_type": "code",
   "execution_count": null,
   "metadata": {
    "execution": {
     "iopub.execute_input": "2024-12-02T07:14:21.935271Z",
     "iopub.status.busy": "2024-12-02T07:14:21.934976Z",
     "iopub.status.idle": "2024-12-02T07:14:33.501546Z",
     "shell.execute_reply": "2024-12-02T07:14:33.500045Z",
     "shell.execute_reply.started": "2024-12-02T07:14:21.935243Z"
    },
    "trusted": true
   },
   "outputs": [],
   "source": [
    "y_pred_test = predictions(test_dataloader)"
   ]
  },
  {
   "cell_type": "markdown",
   "metadata": {},
   "source": [
    "# Metrics"
   ]
  },
  {
   "cell_type": "code",
   "execution_count": null,
   "metadata": {
    "execution": {
     "iopub.execute_input": "2024-12-02T07:14:33.505017Z",
     "iopub.status.busy": "2024-12-02T07:14:33.504439Z",
     "iopub.status.idle": "2024-12-02T07:14:33.519779Z",
     "shell.execute_reply": "2024-12-02T07:14:33.518588Z",
     "shell.execute_reply.started": "2024-12-02T07:14:33.504958Z"
    },
    "trusted": true
   },
   "outputs": [],
   "source": [
    "print(f'Accuracy Test = {round(accuracy_score(df_test[\"label\"].map(label_map), y_pred_test.numpy()), 4)}')"
   ]
  },
  {
   "cell_type": "code",
   "execution_count": null,
   "metadata": {
    "execution": {
     "iopub.execute_input": "2024-12-02T07:14:33.521439Z",
     "iopub.status.busy": "2024-12-02T07:14:33.521094Z",
     "iopub.status.idle": "2024-12-02T07:14:33.534939Z",
     "shell.execute_reply": "2024-12-02T07:14:33.533696Z",
     "shell.execute_reply.started": "2024-12-02T07:14:33.521407Z"
    },
    "trusted": true
   },
   "outputs": [],
   "source": [
    "confusion_matrix_test = confusion_matrix(df_test[\"label\"].map(label_map), y_pred_test.numpy())"
   ]
  },
  {
   "cell_type": "code",
   "execution_count": null,
   "metadata": {
    "execution": {
     "iopub.execute_input": "2024-12-02T07:14:33.536780Z",
     "iopub.status.busy": "2024-12-02T07:14:33.536458Z",
     "iopub.status.idle": "2024-12-02T07:14:54.081141Z",
     "shell.execute_reply": "2024-12-02T07:14:54.080269Z",
     "shell.execute_reply.started": "2024-12-02T07:14:33.536750Z"
    },
    "trusted": true
   },
   "outputs": [],
   "source": [
    "fig,ax = plt.subplots(figsize = (10,4.5))\n",
    "sns.heatmap(confusion_matrix_test, \n",
    "            cmap = 'Oranges', \n",
    "            annot = True, \n",
    "            annot_kws = {\"fontsize\":9, \"fontweight\":\"bold\"}, \n",
    "            linewidths = 1.2, \n",
    "            fmt = ' ',\n",
    "            linecolor = \"white\", \n",
    "            square = True, \n",
    "            xticklabels = classes, \n",
    "            yticklabels = classes, \n",
    "            cbar = False,\n",
    "            ax = ax)\n",
    "ax.set_title(\"Confusion Matrix Test\", fontsize = 15, fontweight = \"bold\", color = \"darkblue\")\n",
    "ax.tick_params('x',rotation = 90)\n",
    "fig.show()"
   ]
  }
 ],
 "metadata": {
  "kaggle": {
   "accelerator": "gpu",
   "dataSources": [
    {
     "datasetId": 6187250,
     "sourceId": 10043545,
     "sourceType": "datasetVersion"
    }
   ],
   "dockerImageVersionId": 30588,
   "isGpuEnabled": true,
   "isInternetEnabled": true,
   "language": "python",
   "sourceType": "notebook"
  },
  "kernelspec": {
   "display_name": "Python 3",
   "language": "python",
   "name": "python3"
  },
  "language_info": {
   "codemirror_mode": {
    "name": "ipython",
    "version": 3
   },
   "file_extension": ".py",
   "mimetype": "text/x-python",
   "name": "python",
   "nbconvert_exporter": "python",
   "pygments_lexer": "ipython3",
   "version": "3.10.12"
  }
 },
 "nbformat": 4,
 "nbformat_minor": 4
}
